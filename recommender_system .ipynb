{
 "cells": [
  {
   "cell_type": "markdown",
   "metadata": {},
   "source": [
    "## Recipie Recommendation System - Content - Based \n",
    "### Exploratory analysis and prediction\n",
    "### Alicja Wilk\n",
    "#### Datalytics with Alicja "
   ]
  },
  {
   "cell_type": "markdown",
   "metadata": {},
   "source": [
    "# Table of contents\n",
    "1. [Data Preparation and Exploration](#Introduction)\n",
    "2. [Feature Engineering](#features)\n",
    "3. [Vectorizing Ingridients](#vectors)\n",
    "4. [Bag of Words and Clustering](#bagcluster)\n",
    "5. [Stemming](#stem)\n",
    "6. [Feature Reduction](#fr)\n",
    "7. [Machine Learning](#ml)\n",
    "    - [MNB](#mnb)\n",
    "    - [Decision Tree with Custom Vector *best model](#dt1)\n",
    "    - [Decision Tree with Word2Vec](#dt2)\n",
    "    - [Bagging](#bagging)\n",
    "    - [Stochastic GB](#sgb)\n",
    "    - [Random Forrest](#rf)\n",
    "    - [Logistic Regression](#lr)\n",
    "    - [Ensemble - Voting Classifier](#em)\n",
    "8. [Conclusion](#concl)\n",
    "    "
   ]
  },
  {
   "cell_type": "markdown",
   "metadata": {},
   "source": [
    "## Data Preparation and Exploration <a class=\"anchor\" id=\"Introduction\"></a>"
   ]
  },
  {
   "cell_type": "code",
   "execution_count": 1,
   "metadata": {},
   "outputs": [
    {
     "name": "stdout",
     "output_type": "stream",
     "text": [
      "/Users/alicjawilk/Desktop/datascience/projects/ml_projects/data/data\n"
     ]
    }
   ],
   "source": [
    "# checking cd\n",
    "import os \n",
    "os.chdir (\"/Users/alicjawilk/Desktop/datascience/projects/ml_projects/data/data\")\n",
    "print(os.getcwd())\n",
    "#print(os.listdir(os.getcwd()))"
   ]
  },
  {
   "cell_type": "code",
   "execution_count": 70,
   "metadata": {},
   "outputs": [],
   "source": [
    "import pandas as pd\n",
    "import numpy as np\n",
    "import re\n",
    "import matplotlib.pyplot as plt\n",
    "%matplotlib inline\n",
    "\n",
    "from nltk.stem import PorterStemmer\n",
    "\n",
    "import sklearn\n",
    "from sklearn.feature_extraction.text import TfidfVectorizer, CountVectorizer, ENGLISH_STOP_WORDS\n",
    "from sklearn.cluster import KMeans\n",
    "from sklearn.model_selection import train_test_split, cross_val_score\n",
    "from sklearn.decomposition import TruncatedSVD\n",
    "from sklearn.neighbors import NearestNeighbors, KNeighborsClassifier\n",
    "from sklearn.tree import DecisionTreeClassifier \n",
    "from sklearn.linear_model import LinearRegression, LogisticRegression\n",
    "from sklearn.naive_bayes import MultinomialNB as MNB\n",
    "from sklearn.metrics import accuracy_score, r2_score, f1_score, confusion_matrix, precision_recall_fscore_support, roc_auc_score\n",
    "from sklearn.metrics import mean_squared_error as MSE \n",
    "from sklearn.metrics import mean_absolute_error as MAD\n",
    "from sklearn.ensemble import *\n",
    "\n",
    "#custom feature dictionary vectors\n",
    "from sklearn.pipeline import FeatureUnion\n",
    "from sklearn.pipeline import Pipeline, make_pipeline\n",
    "from sklearn.base import BaseEstimator, TransformerMixin\n",
    "from sklearn.feature_extraction import DictVectorizer\n",
    "\n",
    "import gensim\n",
    "import gensim.corpora as corpora\n",
    "from gensim.utils import simple_preprocess\n",
    "from gensim.models import CoherenceModel\n",
    "from gensim.models.word2vec import Word2Vec\n"
   ]
  },
  {
   "cell_type": "code",
   "execution_count": 3,
   "metadata": {},
   "outputs": [
    {
     "name": "stdout",
     "output_type": "stream",
     "text": [
      "There are 45630 rows, and 6 columns in the core data recipie file.\n",
      "There are 283440 rows, and 4 columns in the test rating recipie file.\n",
      "There are 283440 rows, and 4 columns in the train rating recipie file.\n"
     ]
    }
   ],
   "source": [
    "n_row = None\n",
    "df = pd.read_csv('core-data_recipe.csv',nrows = n_row)\n",
    "nRow, nCol = df.shape\n",
    "print(f\"There are {nRow} rows, and {nCol} columns in the core data recipie file.\")\n",
    "\n",
    "n_row = None\n",
    "df_test = pd.read_csv('core-data-test_rating.csv',nrows = n_row)\n",
    "nRow, nCol = df_test.shape\n",
    "print(f\"There are {nRow} rows, and {nCol} columns in the test rating recipie file.\")\n",
    "\n",
    "n_row = None\n",
    "df_train = pd.read_csv('core-data-train_rating.csv',nrows = n_row)\n",
    "nRow, nCol = df_test.shape\n",
    "print(f\"There are {nRow} rows, and {nCol} columns in the train rating recipie file.\")\n"
   ]
  },
  {
   "cell_type": "code",
   "execution_count": 4,
   "metadata": {},
   "outputs": [
    {
     "data": {
      "text/html": [
       "<div>\n",
       "<style scoped>\n",
       "    .dataframe tbody tr th:only-of-type {\n",
       "        vertical-align: middle;\n",
       "    }\n",
       "\n",
       "    .dataframe tbody tr th {\n",
       "        vertical-align: top;\n",
       "    }\n",
       "\n",
       "    .dataframe thead th {\n",
       "        text-align: right;\n",
       "    }\n",
       "</style>\n",
       "<table border=\"1\" class=\"dataframe\">\n",
       "  <thead>\n",
       "    <tr style=\"text-align: right;\">\n",
       "      <th></th>\n",
       "      <th>recipe_id</th>\n",
       "      <th>recipe_name</th>\n",
       "      <th>image_url</th>\n",
       "      <th>ingredients</th>\n",
       "      <th>cooking_directions</th>\n",
       "      <th>nutritions</th>\n",
       "    </tr>\n",
       "  </thead>\n",
       "  <tbody>\n",
       "    <tr>\n",
       "      <th>0</th>\n",
       "      <td>240488</td>\n",
       "      <td>Pork Loin, Apples, and Sauerkraut</td>\n",
       "      <td>https://images.media-allrecipes.com/userphotos...</td>\n",
       "      <td>sauerkraut drained^Granny Smith apples sliced^...</td>\n",
       "      <td>{'directions': u'Prep\\n15 m\\nCook\\n2 h 30 m\\nR...</td>\n",
       "      <td>{u'niacin': {u'hasCompleteData': False, u'name...</td>\n",
       "    </tr>\n",
       "    <tr>\n",
       "      <th>1</th>\n",
       "      <td>218939</td>\n",
       "      <td>Foolproof Rosemary Chicken Wings</td>\n",
       "      <td>https://images.media-allrecipes.com/userphotos...</td>\n",
       "      <td>chicken wings^sprigs rosemary^head garlic^oliv...</td>\n",
       "      <td>{'directions': u\"Prep\\n20 m\\nCook\\n40 m\\nReady...</td>\n",
       "      <td>{u'niacin': {u'hasCompleteData': True, u'name'...</td>\n",
       "    </tr>\n",
       "  </tbody>\n",
       "</table>\n",
       "</div>"
      ],
      "text/plain": [
       "   recipe_id                        recipe_name  \\\n",
       "0     240488  Pork Loin, Apples, and Sauerkraut   \n",
       "1     218939   Foolproof Rosemary Chicken Wings   \n",
       "\n",
       "                                           image_url  \\\n",
       "0  https://images.media-allrecipes.com/userphotos...   \n",
       "1  https://images.media-allrecipes.com/userphotos...   \n",
       "\n",
       "                                         ingredients  \\\n",
       "0  sauerkraut drained^Granny Smith apples sliced^...   \n",
       "1  chicken wings^sprigs rosemary^head garlic^oliv...   \n",
       "\n",
       "                                  cooking_directions  \\\n",
       "0  {'directions': u'Prep\\n15 m\\nCook\\n2 h 30 m\\nR...   \n",
       "1  {'directions': u\"Prep\\n20 m\\nCook\\n40 m\\nReady...   \n",
       "\n",
       "                                          nutritions  \n",
       "0  {u'niacin': {u'hasCompleteData': False, u'name...  \n",
       "1  {u'niacin': {u'hasCompleteData': True, u'name'...  "
      ]
     },
     "execution_count": 4,
     "metadata": {},
     "output_type": "execute_result"
    }
   ],
   "source": [
    "df.head(2)"
   ]
  },
  {
   "cell_type": "code",
   "execution_count": 5,
   "metadata": {},
   "outputs": [
    {
     "data": {
      "text/html": [
       "<div>\n",
       "<style scoped>\n",
       "    .dataframe tbody tr th:only-of-type {\n",
       "        vertical-align: middle;\n",
       "    }\n",
       "\n",
       "    .dataframe tbody tr th {\n",
       "        vertical-align: top;\n",
       "    }\n",
       "\n",
       "    .dataframe thead th {\n",
       "        text-align: right;\n",
       "    }\n",
       "</style>\n",
       "<table border=\"1\" class=\"dataframe\">\n",
       "  <thead>\n",
       "    <tr style=\"text-align: right;\">\n",
       "      <th></th>\n",
       "      <th>user_id</th>\n",
       "      <th>recipe_id</th>\n",
       "      <th>rating</th>\n",
       "      <th>dateLastModified</th>\n",
       "    </tr>\n",
       "  </thead>\n",
       "  <tbody>\n",
       "    <tr>\n",
       "      <th>0</th>\n",
       "      <td>5215572</td>\n",
       "      <td>55090</td>\n",
       "      <td>5</td>\n",
       "      <td>2015-01-09T18:05:22.95\\n</td>\n",
       "    </tr>\n",
       "    <tr>\n",
       "      <th>1</th>\n",
       "      <td>5215572</td>\n",
       "      <td>26317</td>\n",
       "      <td>4</td>\n",
       "      <td>2016-12-04T17:50:35.777\\n</td>\n",
       "    </tr>\n",
       "  </tbody>\n",
       "</table>\n",
       "</div>"
      ],
      "text/plain": [
       "   user_id  recipe_id  rating           dateLastModified\n",
       "0  5215572      55090       5   2015-01-09T18:05:22.95\\n\n",
       "1  5215572      26317       4  2016-12-04T17:50:35.777\\n"
      ]
     },
     "execution_count": 5,
     "metadata": {},
     "output_type": "execute_result"
    }
   ],
   "source": [
    "df_test.head(2)"
   ]
  },
  {
   "cell_type": "code",
   "execution_count": 6,
   "metadata": {},
   "outputs": [
    {
     "name": "stdout",
     "output_type": "stream",
     "text": [
      "recipe_id\n",
      "6663    4.315789\n",
      "6664    4.375000\n",
      "6665    3.666667\n",
      "6666    4.696429\n",
      "6667    4.333333\n",
      "Name: rating, dtype: float64\n",
      "recipe_id\n",
      "6663    19\n",
      "6664    16\n",
      "6665    18\n",
      "6666    56\n",
      "6667    24\n",
      "Name: rating, dtype: int64\n",
      "Average # of recipes rated by users in training:  4.269739317278455\n"
     ]
    }
   ],
   "source": [
    "train_mean = df_train.groupby('recipe_id').rating.mean()\n",
    "train_count = df_train.groupby('recipe_id').rating.count()\n",
    "print(train_mean.head())\n",
    "print(train_count.head())\n",
    "print('Average # of recipes rated by users in training: ', train_mean.mean())"
   ]
  },
  {
   "cell_type": "code",
   "execution_count": 7,
   "metadata": {},
   "outputs": [
    {
     "data": {
      "image/png": "[encoded data removed]",
      "text/plain": [
       "<Figure size 432x288 with 1 Axes>"
      ]
     },
     "metadata": {
      "needs_background": "light"
     },
     "output_type": "display_data"
    }
   ],
   "source": [
    "#Plotting # of receipes rated by users in a histogram\n",
    "train_count.plot.hist(grid=True, bins=30, rwidth=0.9,\n",
    "                   color='#607c8e')\n",
    "plt.title('# of Recipes Rated by each User')\n",
    "plt.xlabel('Users')\n",
    "plt.ylabel('Recipe Counts')\n",
    "plt.ylim([0, 1500])\n",
    "plt.grid(axis='y', alpha=0.75)"
   ]
  },
  {
   "cell_type": "code",
   "execution_count": 8,
   "metadata": {},
   "outputs": [
    {
     "data": {
      "image/png": "[encoded data removed]",
      "text/plain": [
       "<Figure size 432x288 with 1 Axes>"
      ]
     },
     "metadata": {
      "needs_background": "light"
     },
     "output_type": "display_data"
    }
   ],
   "source": [
    "train_mean.plot.hist(grid=True, bins=30, rwidth=0.9,\n",
    "                   color='#607c8e')\n",
    "plt.title('# of Recipes Rated by each User')\n",
    "plt.xlabel('Users')\n",
    "plt.ylabel('Recipe Counts')\n",
    "plt.ylim([0, 1500])\n",
    "plt.grid(axis='y', alpha=0.75)"
   ]
  },
  {
   "cell_type": "markdown",
   "metadata": {},
   "source": [
    "#### Adding Features to Recipes\n",
    "* Average rating per recipe\n",
    "* Count of # of ratings for each recipe"
   ]
  },
  {
   "cell_type": "code",
   "execution_count": 9,
   "metadata": {},
   "outputs": [
    {
     "name": "stdout",
     "output_type": "stream",
     "text": [
      "(45630, 8)\n"
     ]
    },
    {
     "data": {
      "text/html": [
       "<div>\n",
       "<style scoped>\n",
       "    .dataframe tbody tr th:only-of-type {\n",
       "        vertical-align: middle;\n",
       "    }\n",
       "\n",
       "    .dataframe tbody tr th {\n",
       "        vertical-align: top;\n",
       "    }\n",
       "\n",
       "    .dataframe thead th {\n",
       "        text-align: right;\n",
       "    }\n",
       "</style>\n",
       "<table border=\"1\" class=\"dataframe\">\n",
       "  <thead>\n",
       "    <tr style=\"text-align: right;\">\n",
       "      <th></th>\n",
       "      <th>recipe_id</th>\n",
       "      <th>recipe_name</th>\n",
       "      <th>image_url</th>\n",
       "      <th>ingredients</th>\n",
       "      <th>cooking_directions</th>\n",
       "      <th>nutritions</th>\n",
       "      <th>avg_rating</th>\n",
       "      <th>count</th>\n",
       "    </tr>\n",
       "  </thead>\n",
       "  <tbody>\n",
       "    <tr>\n",
       "      <th>0</th>\n",
       "      <td>240488</td>\n",
       "      <td>Pork Loin, Apples, and Sauerkraut</td>\n",
       "      <td>https://images.media-allrecipes.com/userphotos...</td>\n",
       "      <td>sauerkraut drained^Granny Smith apples sliced^...</td>\n",
       "      <td>{'directions': u'Prep\\n15 m\\nCook\\n2 h 30 m\\nR...</td>\n",
       "      <td>{u'niacin': {u'hasCompleteData': False, u'name...</td>\n",
       "      <td>4.269739</td>\n",
       "      <td>4.269739</td>\n",
       "    </tr>\n",
       "    <tr>\n",
       "      <th>1</th>\n",
       "      <td>218939</td>\n",
       "      <td>Foolproof Rosemary Chicken Wings</td>\n",
       "      <td>https://images.media-allrecipes.com/userphotos...</td>\n",
       "      <td>chicken wings^sprigs rosemary^head garlic^oliv...</td>\n",
       "      <td>{'directions': u\"Prep\\n20 m\\nCook\\n40 m\\nReady...</td>\n",
       "      <td>{u'niacin': {u'hasCompleteData': True, u'name'...</td>\n",
       "      <td>5.000000</td>\n",
       "      <td>1.000000</td>\n",
       "    </tr>\n",
       "    <tr>\n",
       "      <th>2</th>\n",
       "      <td>87211</td>\n",
       "      <td>Chicken Pesto Paninis</td>\n",
       "      <td>https://images.media-allrecipes.com/userphotos...</td>\n",
       "      <td>focaccia bread quartered^prepared basil pesto^...</td>\n",
       "      <td>{'directions': u'Prep\\n15 m\\nCook\\n5 m\\nReady ...</td>\n",
       "      <td>{u'niacin': {u'hasCompleteData': True, u'name'...</td>\n",
       "      <td>4.617647</td>\n",
       "      <td>34.000000</td>\n",
       "    </tr>\n",
       "  </tbody>\n",
       "</table>\n",
       "</div>"
      ],
      "text/plain": [
       "   recipe_id                        recipe_name  \\\n",
       "0     240488  Pork Loin, Apples, and Sauerkraut   \n",
       "1     218939   Foolproof Rosemary Chicken Wings   \n",
       "2      87211              Chicken Pesto Paninis   \n",
       "\n",
       "                                           image_url  \\\n",
       "0  https://images.media-allrecipes.com/userphotos...   \n",
       "1  https://images.media-allrecipes.com/userphotos...   \n",
       "2  https://images.media-allrecipes.com/userphotos...   \n",
       "\n",
       "                                         ingredients  \\\n",
       "0  sauerkraut drained^Granny Smith apples sliced^...   \n",
       "1  chicken wings^sprigs rosemary^head garlic^oliv...   \n",
       "2  focaccia bread quartered^prepared basil pesto^...   \n",
       "\n",
       "                                  cooking_directions  \\\n",
       "0  {'directions': u'Prep\\n15 m\\nCook\\n2 h 30 m\\nR...   \n",
       "1  {'directions': u\"Prep\\n20 m\\nCook\\n40 m\\nReady...   \n",
       "2  {'directions': u'Prep\\n15 m\\nCook\\n5 m\\nReady ...   \n",
       "\n",
       "                                          nutritions  avg_rating      count  \n",
       "0  {u'niacin': {u'hasCompleteData': False, u'name...    4.269739   4.269739  \n",
       "1  {u'niacin': {u'hasCompleteData': True, u'name'...    5.000000   1.000000  \n",
       "2  {u'niacin': {u'hasCompleteData': True, u'name'...    4.617647  34.000000  "
      ]
     },
     "execution_count": 9,
     "metadata": {},
     "output_type": "execute_result"
    }
   ],
   "source": [
    "df = pd.merge(df, train_mean, how = 'outer', on = 'recipe_id')\n",
    "df = pd.merge(df, train_count, how = 'outer', on = 'recipe_id')\n",
    "df = df.fillna(train_mean.mean())\n",
    "df.rename(columns={'rating_x':'avg_rating',\n",
    "                          'rating_y':'count',\n",
    "                          },inplace=True)\n",
    "print(df.shape)\n",
    "df.head(3)"
   ]
  },
  {
   "cell_type": "markdown",
   "metadata": {},
   "source": [
    "#### Weighted Rating per  Recipe\n",
    "* Adding a weighted rating for the average recipes which factors in the number of ratings that were used to determine that rating\n",
    "* This increases average ratings for receips with higher counts and lowers average ratings for those recipes with few counts."
   ]
  },
  {
   "cell_type": "code",
   "execution_count": 10,
   "metadata": {},
   "outputs": [
    {
     "name": "stdout",
     "output_type": "stream",
     "text": [
      "4.269739317278004\n",
      "33.0\n"
     ]
    }
   ],
   "source": [
    "recipec = df['avg_rating'].mean()\n",
    "recipem = df['count'].quantile(.9)\n",
    "print(recipec)\n",
    "print(recipem)"
   ]
  },
  {
   "cell_type": "code",
   "execution_count": 11,
   "metadata": {},
   "outputs": [],
   "source": [
    "def weighted_rating(x, m=recipem, c=recipec):\n",
    "    v = x['count']\n",
    "    R = x['avg_rating']\n",
    "    \n",
    "    return (v/(v+m) * R) + (m/(m+v) * c)"
   ]
  },
  {
   "cell_type": "code",
   "execution_count": 12,
   "metadata": {},
   "outputs": [
    {
     "data": {
      "text/html": [
       "<div>\n",
       "<style scoped>\n",
       "    .dataframe tbody tr th:only-of-type {\n",
       "        vertical-align: middle;\n",
       "    }\n",
       "\n",
       "    .dataframe tbody tr th {\n",
       "        vertical-align: top;\n",
       "    }\n",
       "\n",
       "    .dataframe thead th {\n",
       "        text-align: right;\n",
       "    }\n",
       "</style>\n",
       "<table border=\"1\" class=\"dataframe\">\n",
       "  <thead>\n",
       "    <tr style=\"text-align: right;\">\n",
       "      <th></th>\n",
       "      <th>recipe_id</th>\n",
       "      <th>recipe_name</th>\n",
       "      <th>image_url</th>\n",
       "      <th>ingredients</th>\n",
       "      <th>cooking_directions</th>\n",
       "      <th>nutritions</th>\n",
       "      <th>avg_rating</th>\n",
       "      <th>count</th>\n",
       "      <th>weighted_rating</th>\n",
       "    </tr>\n",
       "  </thead>\n",
       "  <tbody>\n",
       "    <tr>\n",
       "      <th>0</th>\n",
       "      <td>240488</td>\n",
       "      <td>Pork Loin, Apples, and Sauerkraut</td>\n",
       "      <td>https://images.media-allrecipes.com/userphotos...</td>\n",
       "      <td>sauerkraut drained^Granny Smith apples sliced^...</td>\n",
       "      <td>{'directions': u'Prep\\n15 m\\nCook\\n2 h 30 m\\nR...</td>\n",
       "      <td>{u'niacin': {u'hasCompleteData': False, u'name...</td>\n",
       "      <td>4.269739</td>\n",
       "      <td>4.269739</td>\n",
       "      <td>4.269739</td>\n",
       "    </tr>\n",
       "    <tr>\n",
       "      <th>1</th>\n",
       "      <td>218939</td>\n",
       "      <td>Foolproof Rosemary Chicken Wings</td>\n",
       "      <td>https://images.media-allrecipes.com/userphotos...</td>\n",
       "      <td>chicken wings^sprigs rosemary^head garlic^oliv...</td>\n",
       "      <td>{'directions': u\"Prep\\n20 m\\nCook\\n40 m\\nReady...</td>\n",
       "      <td>{u'niacin': {u'hasCompleteData': True, u'name'...</td>\n",
       "      <td>5.000000</td>\n",
       "      <td>1.000000</td>\n",
       "      <td>4.291218</td>\n",
       "    </tr>\n",
       "  </tbody>\n",
       "</table>\n",
       "</div>"
      ],
      "text/plain": [
       "   recipe_id                        recipe_name  \\\n",
       "0     240488  Pork Loin, Apples, and Sauerkraut   \n",
       "1     218939   Foolproof Rosemary Chicken Wings   \n",
       "\n",
       "                                           image_url  \\\n",
       "0  https://images.media-allrecipes.com/userphotos...   \n",
       "1  https://images.media-allrecipes.com/userphotos...   \n",
       "\n",
       "                                         ingredients  \\\n",
       "0  sauerkraut drained^Granny Smith apples sliced^...   \n",
       "1  chicken wings^sprigs rosemary^head garlic^oliv...   \n",
       "\n",
       "                                  cooking_directions  \\\n",
       "0  {'directions': u'Prep\\n15 m\\nCook\\n2 h 30 m\\nR...   \n",
       "1  {'directions': u\"Prep\\n20 m\\nCook\\n40 m\\nReady...   \n",
       "\n",
       "                                          nutritions  avg_rating     count  \\\n",
       "0  {u'niacin': {u'hasCompleteData': False, u'name...    4.269739  4.269739   \n",
       "1  {u'niacin': {u'hasCompleteData': True, u'name'...    5.000000  1.000000   \n",
       "\n",
       "   weighted_rating  \n",
       "0         4.269739  \n",
       "1         4.291218  "
      ]
     },
     "execution_count": 12,
     "metadata": {},
     "output_type": "execute_result"
    }
   ],
   "source": [
    "df['weighted_rating'] = df.apply(weighted_rating, axis = 1)\n",
    "df.head(2)"
   ]
  },
  {
   "cell_type": "markdown",
   "metadata": {},
   "source": [
    "## Feature Engineering <a class=\"anchor\" id=\"features\"></a>"
   ]
  },
  {
   "cell_type": "markdown",
   "metadata": {},
   "source": [
    "Ingredients\n",
    "\n",
    "* Begin by identifying key singular ingredients, in the ingredients column, that are two words and combine the words with a hyphen. For example, \"olive oil\" will be converted to \"olive-oil.\" "
   ]
  },
  {
   "cell_type": "code",
   "execution_count": 13,
   "metadata": {},
   "outputs": [],
   "source": [
    "def hyphenate_ingredients(df):\n",
    "    df['ingredients'].replace(regex=r'baking soda',value='baking-soda',inplace=True)\n",
    "    df['ingredients'].replace(regex=r'baking powder',value='baking-powder',inplace=True)\n",
    "    df['ingredients'].replace(regex=r'sesame seeds',value='sesame-seeds',inplace=True)\n",
    "    df['ingredients'].replace(regex=r'simple syrup',value='simple-syrup',inplace=True)\n",
    "    df['ingredients'].replace(regex=r'olive oil',value='olive-oil',inplace=True)\n",
    "    df['ingredients'].replace(regex=r'corn starch',value='corn-starch',inplace=True)\n",
    "    df['ingredients'].replace(regex=r'garam masala',value='garam-masala',inplace=True)\n",
    "    df['ingredients'].replace(regex=r'balsamic vinegar',value='balsamic-vinegar',inplace=True)\n",
    "    df['ingredients'].replace(regex=r'sour cream',value='sour-cream',inplace=True)\n",
    "    df['ingredients'].replace(regex=r'red bell pepper',value='red bell-pepper',inplace=True)\n",
    "    df['ingredients'].replace(regex=r'green bell pepper',value='green bell-pepper',inplace=True)\n",
    "    df['ingredients'].replace(regex=r'garam masala',value='garam-masala',inplace=True)\n",
    "    df['ingredients'].replace(regex=r'peanut butter',value='peanut-butter',inplace=True)\n",
    "    df['ingredients'].replace(regex=r'cream cheese',value='cream-cheese',inplace=True)\n",
    "    df['ingredients'].replace(regex=r'garlic powder',value='garlic-powder',inplace=True)\n",
    "    \n",
    "  \n",
    "    return df"
   ]
  },
  {
   "cell_type": "code",
   "execution_count": 14,
   "metadata": {},
   "outputs": [
    {
     "data": {
      "text/html": [
       "<div>\n",
       "<style scoped>\n",
       "    .dataframe tbody tr th:only-of-type {\n",
       "        vertical-align: middle;\n",
       "    }\n",
       "\n",
       "    .dataframe tbody tr th {\n",
       "        vertical-align: top;\n",
       "    }\n",
       "\n",
       "    .dataframe thead th {\n",
       "        text-align: right;\n",
       "    }\n",
       "</style>\n",
       "<table border=\"1\" class=\"dataframe\">\n",
       "  <thead>\n",
       "    <tr style=\"text-align: right;\">\n",
       "      <th></th>\n",
       "      <th>recipe_id</th>\n",
       "      <th>recipe_name</th>\n",
       "      <th>image_url</th>\n",
       "      <th>ingredients</th>\n",
       "      <th>cooking_directions</th>\n",
       "      <th>nutritions</th>\n",
       "      <th>avg_rating</th>\n",
       "      <th>count</th>\n",
       "      <th>weighted_rating</th>\n",
       "    </tr>\n",
       "  </thead>\n",
       "  <tbody>\n",
       "    <tr>\n",
       "      <th>0</th>\n",
       "      <td>240488</td>\n",
       "      <td>Pork Loin, Apples, and Sauerkraut</td>\n",
       "      <td>https://images.media-allrecipes.com/userphotos...</td>\n",
       "      <td>sauerkraut drained^Granny Smith apples sliced^...</td>\n",
       "      <td>{'directions': u'Prep\\n15 m\\nCook\\n2 h 30 m\\nR...</td>\n",
       "      <td>{u'niacin': {u'hasCompleteData': False, u'name...</td>\n",
       "      <td>4.269739</td>\n",
       "      <td>4.269739</td>\n",
       "      <td>4.269739</td>\n",
       "    </tr>\n",
       "    <tr>\n",
       "      <th>1</th>\n",
       "      <td>218939</td>\n",
       "      <td>Foolproof Rosemary Chicken Wings</td>\n",
       "      <td>https://images.media-allrecipes.com/userphotos...</td>\n",
       "      <td>chicken wings^sprigs rosemary^head garlic^oliv...</td>\n",
       "      <td>{'directions': u\"Prep\\n20 m\\nCook\\n40 m\\nReady...</td>\n",
       "      <td>{u'niacin': {u'hasCompleteData': True, u'name'...</td>\n",
       "      <td>5.000000</td>\n",
       "      <td>1.000000</td>\n",
       "      <td>4.291218</td>\n",
       "    </tr>\n",
       "  </tbody>\n",
       "</table>\n",
       "</div>"
      ],
      "text/plain": [
       "   recipe_id                        recipe_name  \\\n",
       "0     240488  Pork Loin, Apples, and Sauerkraut   \n",
       "1     218939   Foolproof Rosemary Chicken Wings   \n",
       "\n",
       "                                           image_url  \\\n",
       "0  https://images.media-allrecipes.com/userphotos...   \n",
       "1  https://images.media-allrecipes.com/userphotos...   \n",
       "\n",
       "                                         ingredients  \\\n",
       "0  sauerkraut drained^Granny Smith apples sliced^...   \n",
       "1  chicken wings^sprigs rosemary^head garlic^oliv...   \n",
       "\n",
       "                                  cooking_directions  \\\n",
       "0  {'directions': u'Prep\\n15 m\\nCook\\n2 h 30 m\\nR...   \n",
       "1  {'directions': u\"Prep\\n20 m\\nCook\\n40 m\\nReady...   \n",
       "\n",
       "                                          nutritions  avg_rating     count  \\\n",
       "0  {u'niacin': {u'hasCompleteData': False, u'name...    4.269739  4.269739   \n",
       "1  {u'niacin': {u'hasCompleteData': True, u'name'...    5.000000  1.000000   \n",
       "\n",
       "   weighted_rating  \n",
       "0         4.269739  \n",
       "1         4.291218  "
      ]
     },
     "execution_count": 14,
     "metadata": {},
     "output_type": "execute_result"
    }
   ],
   "source": [
    "df = hyphenate_ingredients(df)\n",
    "df.head(2)"
   ]
  },
  {
   "cell_type": "markdown",
   "metadata": {},
   "source": [
    "#### Cleaning the ingredients list\n",
    "\n",
    "Now we will clean the test in the \"ingredients\" column. First we create a new column called 'new_ingredients' to update and place the cleaned ingredients text. To clean the ingredients text, we will create a function called \"cleanIngredients\" with the Recipe dataframe as the argument.\n",
    "\n",
    "Steps to clean ingredients text (using regex):\n",
    "* Take out all uneccessary punctuation or special characters and replace with a space\n",
    "* Remove all parenthetical phrases. E.g. \"(ounces)\" \n",
    "* Remove all \"&\"\n",
    "* Remove all words that preceed a \":\". These words tend to be a header for sub-ingredients. E.g. \"Sauce: heavy whipping cream, butter, minced garlic, grated Parmesan cheese\"\n",
    "* Convert all text to lowercase characters"
   ]
  },
  {
   "cell_type": "code",
   "execution_count": 15,
   "metadata": {},
   "outputs": [],
   "source": [
    "df['ingredients_new'] = df['ingredients']"
   ]
  },
  {
   "cell_type": "code",
   "execution_count": 16,
   "metadata": {},
   "outputs": [],
   "source": [
    "def cleanIngredients(df):\n",
    "    df['ingredients_new'] = df['ingredients_new'].str.replace(r\"[^A-Za-z0-9,\\(\\):!?@\\'\\`\\\"\\_\\n\\^\\-]\", \" \")\n",
    "    df['ingredients_new'] = df['ingredients_new'].str.replace(r\"(\\(([\\w\\s-]*)\\))\", \"\")\n",
    "    df['ingredients_new'] = df['ingredients_new'].str.replace(r\"&\",\"\")\n",
    "    df['ingredients_new'] = df['ingredients_new'].str.replace(r\"\\^[A-Za-z\\s]+:|^[A-Za-z\\s]+:\\^\",\"\")\n",
    "    df['ingredients_new'] = df['ingredients_new'].str.replace(r\"[0-9]\\s*[0-9]+ | [0-9]+\\-\",\" \")\n",
    "    df['ingredients_new'] = df['ingredients_new'].str.lower()\n",
    "    \n",
    "    return df"
   ]
  },
  {
   "cell_type": "code",
   "execution_count": 17,
   "metadata": {},
   "outputs": [],
   "source": [
    "# Use the function to remove the extraneous items in the ingredients list\n",
    "df = cleanIngredients(df)"
   ]
  },
  {
   "cell_type": "markdown",
   "metadata": {},
   "source": [
    "#### Cleaning the ingredients list (continued)\n",
    "* Remove the \" ^ \" character that is splitting the words\n",
    "* Tokenize the cleaned-up ingredients for preprocessing for vectorization later on"
   ]
  },
  {
   "cell_type": "code",
   "execution_count": 18,
   "metadata": {},
   "outputs": [],
   "source": [
    "# Split the ingredients using the '^' delimiter that existed\n",
    "df['ingredients_new'] = df['ingredients_new'].str.split(\"^\", )\n",
    "df.head()\n",
    "\n",
    "# function to tokenize words within list pased in\n",
    "def tokenizeList(l):\n",
    "    new_l = [val.split(\" \") for val in l]\n",
    "    flat_l = [item for sublist in new_l for item in sublist]\n",
    "    return flat_l\n",
    "\n",
    "#Apply tokenize function to cleaned ingredients\n",
    "df['ingredientsTokenized'] = df['ingredients_new'].apply(tokenizeList)"
   ]
  },
  {
   "cell_type": "markdown",
   "metadata": {},
   "source": [
    "## Feature Engineering (continued) \n",
    "\n",
    "Adding lengths of ingredients and of directions to receipe dataframe"
   ]
  },
  {
   "cell_type": "code",
   "execution_count": 19,
   "metadata": {},
   "outputs": [
    {
     "name": "stdout",
     "output_type": "stream",
     "text": [
      "0    [sauerkraut drained, granny smith apples slice...\n",
      "1    [chicken wings, sprigs rosemary, head garlic, ...\n",
      "2    [focaccia bread quartered, prepared basil pest...\n",
      "3    [red potatoes, strips bacon, heavy whipping cr...\n",
      "4    [skinless boneless chicken breast halves, dice...\n",
      "Name: ingredients_new, dtype: object\n",
      "\n",
      "\n",
      "0    sauerkraut drained granny smith apples sliced ...\n",
      "1    chicken wings sprigs rosemary head garlic oliv...\n",
      "2    focaccia bread quartered prepared basil pesto ...\n",
      "3    red potatoes strips bacon heavy whipping cream...\n",
      "4    skinless boneless chicken breast halves diced ...\n",
      "Name: ingredients, dtype: object\n"
     ]
    },
    {
     "data": {
      "text/html": [
       "<div>\n",
       "<style scoped>\n",
       "    .dataframe tbody tr th:only-of-type {\n",
       "        vertical-align: middle;\n",
       "    }\n",
       "\n",
       "    .dataframe tbody tr th {\n",
       "        vertical-align: top;\n",
       "    }\n",
       "\n",
       "    .dataframe thead th {\n",
       "        text-align: right;\n",
       "    }\n",
       "</style>\n",
       "<table border=\"1\" class=\"dataframe\">\n",
       "  <thead>\n",
       "    <tr style=\"text-align: right;\">\n",
       "      <th></th>\n",
       "      <th>recipe_id</th>\n",
       "      <th>recipe_name</th>\n",
       "      <th>image_url</th>\n",
       "      <th>ingredients</th>\n",
       "      <th>cooking_directions</th>\n",
       "      <th>nutritions</th>\n",
       "      <th>avg_rating</th>\n",
       "      <th>count</th>\n",
       "      <th>weighted_rating</th>\n",
       "      <th>ingredients_new</th>\n",
       "      <th>ingredientsTokenized</th>\n",
       "      <th>lengthDirections</th>\n",
       "      <th>lengthIngredients</th>\n",
       "    </tr>\n",
       "  </thead>\n",
       "  <tbody>\n",
       "    <tr>\n",
       "      <th>0</th>\n",
       "      <td>240488</td>\n",
       "      <td>Pork Loin, Apples, and Sauerkraut</td>\n",
       "      <td>https://images.media-allrecipes.com/userphotos...</td>\n",
       "      <td>sauerkraut drained granny smith apples sliced ...</td>\n",
       "      <td>{'directions': u'Prep\\n15 m\\nCook\\n2 h 30 m\\nR...</td>\n",
       "      <td>{u'niacin': {u'hasCompleteData': False, u'name...</td>\n",
       "      <td>4.269739</td>\n",
       "      <td>4.269739</td>\n",
       "      <td>4.269739</td>\n",
       "      <td>[sauerkraut drained, granny smith apples slice...</td>\n",
       "      <td>[sauerkraut, drained, granny, smith, apples, s...</td>\n",
       "      <td>833</td>\n",
       "      <td>182</td>\n",
       "    </tr>\n",
       "    <tr>\n",
       "      <th>1</th>\n",
       "      <td>218939</td>\n",
       "      <td>Foolproof Rosemary Chicken Wings</td>\n",
       "      <td>https://images.media-allrecipes.com/userphotos...</td>\n",
       "      <td>chicken wings sprigs rosemary head garlic oliv...</td>\n",
       "      <td>{'directions': u\"Prep\\n20 m\\nCook\\n40 m\\nReady...</td>\n",
       "      <td>{u'niacin': {u'hasCompleteData': True, u'name'...</td>\n",
       "      <td>5.000000</td>\n",
       "      <td>1.000000</td>\n",
       "      <td>4.291218</td>\n",
       "      <td>[chicken wings, sprigs rosemary, head garlic, ...</td>\n",
       "      <td>[chicken, wings, sprigs, rosemary, head, garli...</td>\n",
       "      <td>936</td>\n",
       "      <td>78</td>\n",
       "    </tr>\n",
       "  </tbody>\n",
       "</table>\n",
       "</div>"
      ],
      "text/plain": [
       "   recipe_id                        recipe_name  \\\n",
       "0     240488  Pork Loin, Apples, and Sauerkraut   \n",
       "1     218939   Foolproof Rosemary Chicken Wings   \n",
       "\n",
       "                                           image_url  \\\n",
       "0  https://images.media-allrecipes.com/userphotos...   \n",
       "1  https://images.media-allrecipes.com/userphotos...   \n",
       "\n",
       "                                         ingredients  \\\n",
       "0  sauerkraut drained granny smith apples sliced ...   \n",
       "1  chicken wings sprigs rosemary head garlic oliv...   \n",
       "\n",
       "                                  cooking_directions  \\\n",
       "0  {'directions': u'Prep\\n15 m\\nCook\\n2 h 30 m\\nR...   \n",
       "1  {'directions': u\"Prep\\n20 m\\nCook\\n40 m\\nReady...   \n",
       "\n",
       "                                          nutritions  avg_rating     count  \\\n",
       "0  {u'niacin': {u'hasCompleteData': False, u'name...    4.269739  4.269739   \n",
       "1  {u'niacin': {u'hasCompleteData': True, u'name'...    5.000000  1.000000   \n",
       "\n",
       "   weighted_rating                                    ingredients_new  \\\n",
       "0         4.269739  [sauerkraut drained, granny smith apples slice...   \n",
       "1         4.291218  [chicken wings, sprigs rosemary, head garlic, ...   \n",
       "\n",
       "                                ingredientsTokenized  lengthDirections  \\\n",
       "0  [sauerkraut, drained, granny, smith, apples, s...               833   \n",
       "1  [chicken, wings, sprigs, rosemary, head, garli...               936   \n",
       "\n",
       "   lengthIngredients  \n",
       "0                182  \n",
       "1                 78  "
      ]
     },
     "execution_count": 19,
     "metadata": {},
     "output_type": "execute_result"
    }
   ],
   "source": [
    "# Creating a single string from the list of cleaned ingredients\n",
    "df['ingredients'] = df['ingredients_new'].str.join(' ')\n",
    "print(df['ingredients_new'].head())\n",
    "print(\"\\n\")\n",
    "print(df['ingredients'].head())\n",
    "\n",
    "df['lengthDirections'] = df['cooking_directions'].apply(len)\n",
    "df['lengthIngredients'] = df['ingredients'].apply(len)\n",
    "df.head(2)"
   ]
  },
  {
   "cell_type": "code",
   "execution_count": 20,
   "metadata": {},
   "outputs": [],
   "source": [
    "#Conversion function used to convert hours:minutes to total minutes\n",
    "# and had to account for cases where one, the other or both exist\n",
    "def TimeConvert(time1,time2):\n",
    "    HorM = ''\n",
    "    if time2 != 0:\n",
    "        HorM = re.search(r'[h,m]',time2).group()\n",
    "        time2 = re.search(r'\\d+', time2).group()\n",
    "        if time1 != 0:\n",
    "            time1 = re.search(r'\\d+', time1).group()\n",
    "            return ((int(time1))*60+int(time2))\n",
    "        else:\n",
    "            if HorM == 'm':\n",
    "                return (time2)\n",
    "            else:\n",
    "                return (int(time2)*60)\n",
    "    else: \n",
    "        return(0)"
   ]
  },
  {
   "cell_type": "code",
   "execution_count": 21,
   "metadata": {},
   "outputs": [],
   "source": [
    "# RegEx to pull out Prep Times if they exist\n",
    "def GetPrepTimes(directions):\n",
    "    PrepTimeH=0 \n",
    "    PrepTimeM=0 \n",
    "    PrepTime=0\n",
    "    try:\n",
    "        PrepTimeM = re.search(r'(Prep\\\\n)(\\d+\\s[h])(\\s\\d+\\s[m])|(Prep\\\\n)(\\d+\\s[m,h])', directions).group(5)\n",
    "        if PrepTimeM == None:\n",
    "            PrepTimeH = re.search(r'(Prep\\\\n)(\\d+\\s[h])(\\s\\d+\\s[m])|(Prep\\\\n)(\\d+\\s[m,h])', directions).group(2)\n",
    "            PrepTimeM = re.search(r'(Prep\\\\n)(\\d+\\s[h])(\\s\\d+\\s[m])|(Prep\\\\n)(\\d+\\s[m,h])', directions).group(3)\n",
    "    except: \n",
    "        pass\n",
    "    else:\n",
    "        PrepTime = TimeConvert(PrepTimeH,PrepTimeM)\n",
    "  \n",
    "    return(PrepTime)\n",
    "\n",
    "# RegEx to pull out Cook Times if they exist\n",
    "def GetCookTimes(directions):\n",
    "    CookTimeH=0 \n",
    "    CookTimeM=0 \n",
    "    CookTime=0\n",
    "    try:\n",
    "        CookTimeM = re.search(r'(Cook\\\\n)(\\d+\\s[h])(\\s\\d+\\s[m])|(Cook\\\\n)(\\d+\\s[m,h])', directions).group(5)\n",
    "        if CookTimeM == None:\n",
    "            CookTimeH = re.search(r'(Cook\\\\n)(\\d+\\s[h])(\\s\\d+\\s[m])|(Cook\\\\n)(\\d+\\s[m,h])', directions).group(2)\n",
    "            CookTimeM = re.search(r'(Cook\\\\n)(\\d+\\s[h])(\\s\\d+\\s[m])|(Cook\\\\n)(\\d+\\s[m,h])', directions).group(3)\n",
    "    except: \n",
    "        pass\n",
    "    else:\n",
    "        CookTime = TimeConvert(CookTimeH,CookTimeM)\n",
    "    \n",
    "    return(CookTime)\n",
    "\n",
    "# RegEx to pull out ReadyIn Times if they exist\n",
    "def GetReadyInTimes(directions):\n",
    "    ReadyInTimeH=0 \n",
    "    ReadyInTimeM=0 \n",
    "    ReadyInTime=0\n",
    "    try:\n",
    "        ReadyInTimeM = re.search(r'(Ready\\sIn\\\\n)(\\d+\\s[h])(\\s\\d+\\s[m])|(Ready\\sIn\\\\n)(\\d+\\s[m,h])', directions).group(5)\n",
    "        if ReadyInTimeM == None:\n",
    "            ReadyInTimeH = re.search(r'(Ready\\sIn\\\\n)(\\d+\\s[h])(\\s\\d+\\s[m])|(Ready\\sIn\\\\n)(\\d+\\s[m,h])', directions).group(2)\n",
    "            ReadyInTimeM = re.search(r'(Ready\\sIn\\\\n)(\\d+\\s[h])(\\s\\d+\\s[m])|(Ready\\sIn\\\\n)(\\d+\\s[m,h])', directions).group(3)\n",
    "    except: \n",
    "        pass\n",
    "    else:\n",
    "        ReadyInTime = TimeConvert(ReadyInTimeH, ReadyInTimeM)\n",
    "\n",
    "    return(ReadyInTime)"
   ]
  },
  {
   "cell_type": "code",
   "execution_count": 22,
   "metadata": {},
   "outputs": [
    {
     "name": "stdout",
     "output_type": "stream",
     "text": [
      "(45630, 16)\n"
     ]
    },
    {
     "data": {
      "text/html": [
       "<div>\n",
       "<style scoped>\n",
       "    .dataframe tbody tr th:only-of-type {\n",
       "        vertical-align: middle;\n",
       "    }\n",
       "\n",
       "    .dataframe tbody tr th {\n",
       "        vertical-align: top;\n",
       "    }\n",
       "\n",
       "    .dataframe thead th {\n",
       "        text-align: right;\n",
       "    }\n",
       "</style>\n",
       "<table border=\"1\" class=\"dataframe\">\n",
       "  <thead>\n",
       "    <tr style=\"text-align: right;\">\n",
       "      <th></th>\n",
       "      <th>recipe_id</th>\n",
       "      <th>recipe_name</th>\n",
       "      <th>image_url</th>\n",
       "      <th>ingredients</th>\n",
       "      <th>cooking_directions</th>\n",
       "      <th>nutritions</th>\n",
       "      <th>avg_rating</th>\n",
       "      <th>count</th>\n",
       "      <th>weighted_rating</th>\n",
       "      <th>ingredients_new</th>\n",
       "      <th>ingredientsTokenized</th>\n",
       "      <th>lengthDirections</th>\n",
       "      <th>lengthIngredients</th>\n",
       "      <th>PrepTime</th>\n",
       "      <th>CookTime</th>\n",
       "      <th>ReadyInTime</th>\n",
       "    </tr>\n",
       "  </thead>\n",
       "  <tbody>\n",
       "    <tr>\n",
       "      <th>0</th>\n",
       "      <td>240488</td>\n",
       "      <td>Pork Loin, Apples, and Sauerkraut</td>\n",
       "      <td>https://images.media-allrecipes.com/userphotos...</td>\n",
       "      <td>sauerkraut drained granny smith apples sliced ...</td>\n",
       "      <td>{'directions': u'Prep\\n15 m\\nCook\\n2 h 30 m\\nR...</td>\n",
       "      <td>{u'niacin': {u'hasCompleteData': False, u'name...</td>\n",
       "      <td>4.269739</td>\n",
       "      <td>4.269739</td>\n",
       "      <td>4.269739</td>\n",
       "      <td>[sauerkraut drained, granny smith apples slice...</td>\n",
       "      <td>[sauerkraut, drained, granny, smith, apples, s...</td>\n",
       "      <td>833</td>\n",
       "      <td>182</td>\n",
       "      <td>15</td>\n",
       "      <td>150</td>\n",
       "      <td>165</td>\n",
       "    </tr>\n",
       "    <tr>\n",
       "      <th>1</th>\n",
       "      <td>218939</td>\n",
       "      <td>Foolproof Rosemary Chicken Wings</td>\n",
       "      <td>https://images.media-allrecipes.com/userphotos...</td>\n",
       "      <td>chicken wings sprigs rosemary head garlic oliv...</td>\n",
       "      <td>{'directions': u\"Prep\\n20 m\\nCook\\n40 m\\nReady...</td>\n",
       "      <td>{u'niacin': {u'hasCompleteData': True, u'name'...</td>\n",
       "      <td>5.000000</td>\n",
       "      <td>1.000000</td>\n",
       "      <td>4.291218</td>\n",
       "      <td>[chicken wings, sprigs rosemary, head garlic, ...</td>\n",
       "      <td>[chicken, wings, sprigs, rosemary, head, garli...</td>\n",
       "      <td>936</td>\n",
       "      <td>78</td>\n",
       "      <td>20</td>\n",
       "      <td>40</td>\n",
       "      <td>60</td>\n",
       "    </tr>\n",
       "  </tbody>\n",
       "</table>\n",
       "</div>"
      ],
      "text/plain": [
       "   recipe_id                        recipe_name  \\\n",
       "0     240488  Pork Loin, Apples, and Sauerkraut   \n",
       "1     218939   Foolproof Rosemary Chicken Wings   \n",
       "\n",
       "                                           image_url  \\\n",
       "0  https://images.media-allrecipes.com/userphotos...   \n",
       "1  https://images.media-allrecipes.com/userphotos...   \n",
       "\n",
       "                                         ingredients  \\\n",
       "0  sauerkraut drained granny smith apples sliced ...   \n",
       "1  chicken wings sprigs rosemary head garlic oliv...   \n",
       "\n",
       "                                  cooking_directions  \\\n",
       "0  {'directions': u'Prep\\n15 m\\nCook\\n2 h 30 m\\nR...   \n",
       "1  {'directions': u\"Prep\\n20 m\\nCook\\n40 m\\nReady...   \n",
       "\n",
       "                                          nutritions  avg_rating     count  \\\n",
       "0  {u'niacin': {u'hasCompleteData': False, u'name...    4.269739  4.269739   \n",
       "1  {u'niacin': {u'hasCompleteData': True, u'name'...    5.000000  1.000000   \n",
       "\n",
       "   weighted_rating                                    ingredients_new  \\\n",
       "0         4.269739  [sauerkraut drained, granny smith apples slice...   \n",
       "1         4.291218  [chicken wings, sprigs rosemary, head garlic, ...   \n",
       "\n",
       "                                ingredientsTokenized  lengthDirections  \\\n",
       "0  [sauerkraut, drained, granny, smith, apples, s...               833   \n",
       "1  [chicken, wings, sprigs, rosemary, head, garli...               936   \n",
       "\n",
       "   lengthIngredients PrepTime CookTime ReadyInTime  \n",
       "0                182       15      150         165  \n",
       "1                 78       20       40          60  "
      ]
     },
     "execution_count": 22,
     "metadata": {},
     "output_type": "execute_result"
    }
   ],
   "source": [
    "#Adding columns to recipe dataframe by calling funtions above\n",
    "df['PrepTime']= df['cooking_directions'].apply(GetPrepTimes)\n",
    "df['CookTime']= df['cooking_directions'].apply(GetCookTimes)\n",
    "df['ReadyInTime']= df['cooking_directions'].apply(GetReadyInTimes)\n",
    "print(df.shape)\n",
    "df.head(2)"
   ]
  },
  {
   "cell_type": "markdown",
   "metadata": {},
   "source": [
    "## Vectorizing Ingredients <a class=\"anchor\" id=\"vectors\"></a>\n",
    "\n",
    "* Using TfidfVectorizer to determine least valuable words to add those to the English stop words before using CountVectorizer and comparing unigram, bigram and combined (unigram & bigram) vectors"
   ]
  },
  {
   "cell_type": "code",
   "execution_count": 23,
   "metadata": {},
   "outputs": [
    {
     "name": "stdout",
     "output_type": "stream",
     "text": [
      "\n",
      "Features with the lowest tfidf:\n",
      "['proverbs' '22' '21' 'jeremiah' 'leviticus' '20' 'isaiah' '14' 'cutting'\n",
      " 'discos' 'canilla' 'salsita' 'sazonador' 'total' 'azafran' 'alcaparrado'\n",
      " 'blackeye' 'myers' 'magazine' 'duct']\n",
      "\n",
      "Features with the highest tfidf:\n",
      "['cantaloupe' 'cranberry' 'semolina' 'tortillas' 'radishes' 'ear'\n",
      " 'lingonberries' 'pumpkin' 'mussels' 'tongue' 'livers' 'mccormick' 'goya'\n",
      " 'polenta' 'gari' 'egg' 'almonds' 'eggs' 'oranges' 'bacon']\n",
      "\n",
      "Features with the lowest idf:\n",
      "['salt' 'pepper' 'ground' 'sugar' 'white' 'chopped' 'oil' 'butter'\n",
      " 'garlic' 'onion' 'and' 'black' 'cheese' 'flour' 'fresh' 'all' 'purpose'\n",
      " 'to' 'powder' 'water']\n",
      "\n",
      "Features with the highest idf:\n",
      "['churned' 'ghosts' 'cheeses' 'simmered' 'chorize' 'chopsticks' 'chopin'\n",
      " 'partridge' 'giblet' 'chong' 'sit' 'siu' 'gills' 'sixths' 'cholesterol'\n",
      " 'glaces' 'chlorinated' 'pared' 'gianduja' 'lingcod']\n"
     ]
    }
   ],
   "source": [
    "listCorpus = df['ingredients'].tolist()\n",
    "\n",
    "vectorizer = TfidfVectorizer()\n",
    "vectorizer.fit(listCorpus)\n",
    "vector = vectorizer.transform(df['ingredients'])\n",
    "max_value = vector.max(axis=0).toarray().ravel()\n",
    "sorted_by_tfidf = max_value.argsort()\n",
    "\n",
    "#Not as valuable - low tfidf\n",
    "feature_names = np.array(vectorizer.get_feature_names())\n",
    "print(\"\\nFeatures with the lowest tfidf:\\n{}\".format(feature_names[sorted_by_tfidf[:20]]))\n",
    "\n",
    "#Frequently unique, high tfidf\n",
    "print(\"\\nFeatures with the highest tfidf:\\n{}\".format(feature_names[sorted_by_tfidf[-20:]]))\n",
    "\n",
    "#idf score low, less importand\n",
    "sorted_by_idf = np.argsort(vectorizer.idf_)\n",
    "print(\"\\nFeatures with the lowest idf:\\n{}\".format(feature_names[sorted_by_idf[:20]]))\n",
    "\n",
    "#highest idf\n",
    "print(\"\\nFeatures with the highest idf:\\n{}\".format(feature_names[sorted_by_idf[-20:]]))"
   ]
  },
  {
   "cell_type": "code",
   "execution_count": 24,
   "metadata": {},
   "outputs": [
    {
     "name": "stdout",
     "output_type": "stream",
     "text": [
      "Number of stop words: 499\n",
      "Sample of stop words: \n",
      "['and', 'black', 'cheese', 'flour', 'fresh', 'all', 'purpose', 'to', 'powder', 'water', 'taste', 'milk', 'cream', 'eggs', 'olive', 'sauce', 'chicken', 'green', 'vanilla', 'red']\n"
     ]
    }
   ],
   "source": [
    "# manually adding particular stop words from idf\n",
    "\n",
    "custom_sw = ['chopped', 'fluid', 'ounce', 'ounces', 'inch', 'thick', 'plus', 'more', \n",
    "                   'taste', 'can', 'sliced', 'diced', 'toasted', 'thinly',\n",
    "                  'ground', 'fresh', 'cubed', 'peeled', 'beaten', 'bottle', 'crushed', 'drained', \n",
    "                   'crumbled', 'stemmed', 'dice', 'cube', 'land','lakes', 'heinz', 'minced', 'mix',\n",
    "                   'cut', 'with', 'for', 'inch', 'chop', 'slice', 'dice', 'toast', 'crush', 'peel', 'crumble', \n",
    "                  'stem', 'cube', 'husk', 'mince','abov', 'afterward', 'alon', 'alreadi', 'alway',\n",
    "       'ani', 'anoth', 'anyon', 'anyth', 'anywher', 'becam', \n",
    "       'becaus', 'becom', 'befor', 'besid', 'bottl', 'chees', 'cri', \n",
    "       'crumbl', 'describ', 'drain', 'dri', 'dure', 'els', 'elsewher', \n",
    "       'empti', 'everi', 'everyon', 'everyth', 'everywher', 'fifti', 'formerli', \n",
    "       'forti', 'ha', 'henc', 'hereaft', 'herebi', 'hi', 'howev', 'hundr', 'inde', \n",
    "       'lake', 'latterli', 'mani', 'meanwhil', 'minc', 'moreov', 'mostli', 'nobodi', \n",
    "       'noon', 'noth', 'nowher', 'oliv', 'onc', 'onli', 'otherwis', 'ounc', 'ourselv', \n",
    "       'perhap', 'pleas', 'plu', 'sauc', 'seriou', 'sever', 'shred', 'sinc', 'sincer',\n",
    "       'sixti', 'someon', 'someth', 'sometim', 'somewher', 'tast', 'themselv', 'thenc', \n",
    "       'thereaft', 'therebi', 'therefor', 'thi', 'thinli', 'thu', 'togeth', 'twelv', 'twenti', \n",
    "       'veri', 'wa', 'whatev', 'whenc', 'whenev', 'wherea', 'whereaft', 'wherebi', 'wherev', 'whi', 'yourselv',\n",
    "                   'anywh', 'becau', 'chee', 'el', 'elsewh', 'everywh', 'ind', 'otherwi', 'plea', 'somewh']\n",
    "for word in ENGLISH_STOP_WORDS:\n",
    "    custom_sw.append(word) \n",
    "    \n",
    "custom_sw = custom_sw + feature_names[sorted_by_idf[:30]].tolist()\n",
    "\n",
    "print(\"Number of stop words: \" + str(np.shape(custom_sw)[0]))\n",
    "print(\"Sample of stop words: \")\n",
    "print(custom_sw[-20:])"
   ]
  },
  {
   "cell_type": "markdown",
   "metadata": {},
   "source": [
    "## Bag of Words  and Clustering <a class=\"anchor\" id=\"bagcluster\"></a>\n",
    "\n",
    "* We created vectors using CountVectorizer and explored unigram, bigrams and combined before settling on the combined.  \n",
    "* After that, we also stemmed the ingredients before generating a stemmed version of CountVectorizer that we use to generate kMeans clusters after running elbow chart to determine optimal # of clusters"
   ]
  },
  {
   "cell_type": "code",
   "execution_count": 25,
   "metadata": {},
   "outputs": [],
   "source": [
    "cv = CountVectorizer(stop_words = custom_sw, ngram_range = (1,2))\n",
    "unigram = (1,1)\n",
    "bigram = (2,2)\n",
    "combined = (1,2)\n",
    "vectorizers = [unigram, bigram, combined]\n",
    "counts = cv.fit_transform(df[\"ingredients\"])  # sparse matrix with columns corresponding to words\n",
    "words = cv.get_feature_names()  "
   ]
  },
  {
   "cell_type": "code",
   "execution_count": 26,
   "metadata": {},
   "outputs": [
    {
     "name": "stdout",
     "output_type": "stream",
     "text": [
      "k= 1 done, inertia: 1086548.1491272561\n",
      "k= 2 done, inertia: 1086523.2370469798\n",
      "k= 3 done, inertia: 1086144.4291061563\n",
      "k= 4 done, inertia: 1086352.4888301166\n",
      "k= 5 done, inertia: 1086398.5127111515\n",
      "k= 6 done, inertia: 1084687.731048163\n",
      "k= 7 done, inertia: 1061581.7567858025\n",
      "k= 8 done, inertia: 1067675.2069408204\n",
      "k= 9 done, inertia: 1082078.1538496893\n",
      "k= 10 done, inertia: 1055718.6647661156\n",
      "k= 11 done, inertia: 1074802.7689983852\n",
      "k= 12 done, inertia: 1049123.1033398304\n",
      "k= 13 done, inertia: 1051647.0547668685\n",
      "k= 14 done, inertia: 1054401.0298961923\n"
     ]
    },
    {
     "data": {
      "text/plain": [
       "[<matplotlib.lines.Line2D at 0x1a2cfa3668>]"
      ]
     },
     "execution_count": 26,
     "metadata": {},
     "output_type": "execute_result"
    },
    {
     "data": {
      "image/png": "[encoded data removed]",
      "text/plain": [
       "<Figure size 432x288 with 1 Axes>"
      ]
     },
     "metadata": {
      "needs_background": "light"
     },
     "output_type": "display_data"
    }
   ],
   "source": [
    "# Elbow chart generation used to determine optimal # of clusters\n",
    "np.random.seed(345)\n",
    "inertias = []\n",
    "krange = range(1,15)\n",
    "for k in krange:\n",
    "    tclusterer = sklearn.cluster.MiniBatchKMeans(k, init_size=k+1)\n",
    "    tclusterer.fit_predict(counts)\n",
    "    inertias.append(tclusterer.inertia_)\n",
    "    print('k=',k,'done, inertia:', tclusterer.inertia_)\n",
    "plt.plot(krange, inertias)"
   ]
  },
  {
   "cell_type": "markdown",
   "metadata": {},
   "source": [
    "### Choosing best 'n-grams' for  clustering\n",
    "* Unigrams\n",
    "* Bigrams\n",
    "* Combined\n",
    "* We chose combined \n",
    "    + ngram_range = (1,2)"
   ]
  },
  {
   "cell_type": "code",
   "execution_count": 27,
   "metadata": {},
   "outputs": [
    {
     "name": "stdout",
     "output_type": "stream",
     "text": [
      "This is: (1, 1)\n",
      "Number of Attribute Words (Not Stemmed): 3718\n",
      "Top terms per cluster:\n",
      "Cluster 0: shredded cheddar beef mozzarella sour bell cooked large parmesan grated frozen tomatoes onions bread potatoes corn soup beans bacon tomato\n",
      "\n",
      "\n",
      "Cluster 1: large vegetable beef vinegar dry brown bell tomatoes egg onions potatoes bread grated frozen beans celery small broth tomato mustard\n",
      "\n",
      "\n",
      "Cluster 2: juice lemon lime orange large zest grated pineapple cilantro frozen brown vinegar vegetable tomatoes bell egg ginger parsley dried ice\n",
      "\n",
      "\n",
      "Cluster 3: baking soda extract brown cinnamon egg packed vegetable walnuts chocolate chips oats shortening nutmeg unsweetened buttermilk confectioners raisins cocoa wheat\n",
      "\n",
      "\n",
      "Cluster 4: extract chocolate egg chips confectioners baking semisweet cinnamon brown coconut unsweetened heavy cocoa peanut syrup almond cake pie pecans instant\n",
      "\n",
      "\n",
      "Cluster 5: boneless skinless breast halves vegetable broth dried bell soup shredded juice breasts grated lemon large mushrooms tomatoes soy condensed rice\n",
      "\n",
      "\n",
      "Cluster 6: dried oregano basil tomatoes parsley thyme large tomato beef bell broth grated celery vegetable beans leaves parmesan wine dry cumin\n",
      "\n",
      "\n",
      "This is: (2, 2)\n",
      "Number of Attribute Words (Not Stemmed): 89374\n",
      "Top terms per cluster:\n",
      "Cluster 0: grated parmesan shredded mozzarella bread crumbs freshly grated dried oregano dried basil mozzarella grated italian seasoning frozen spinach crumbs grated extra virgin parmesan shredded shredded cheddar parmesan dried dried parsley spinach thawed dry bread lasagna noodles artichoke hearts italian sausage\n",
      "\n",
      "\n",
      "Cluster 1: baking soda shredded cheddar chocolate chips packed brown semisweet chocolate lime juice orange juice unsweetened cocoa baking baking extract baking rolled oats extra virgin dry yeast active dry cooking spray beans rinsed wine vinegar whipped topping heavy whipping flaked coconut\n",
      "\n",
      "\n",
      "Cluster 2: lemon juice lemon zest juice lemon extra virgin grated lemon wine vinegar baking soda orange juice vinegar lemon dijon mustard juice dried zest lemon mayonnaise lemon dried oregano egg yolks packed brown juice grated grated parmesan juice extract bread crumbs\n",
      "\n",
      "\n",
      "Cluster 3: ginger skinless brown fish meat brown potatoes coconut fish tamarind paste ginger peanut potatoes paste peanut lime juice coconut lime curry paste skinless boneless boneless breast breast meat tamarind paste vegetable curry finely sour finely snipped finely taco finely tarragon\n",
      "\n",
      "\n",
      "Cluster 4: dried oregano bread crumbs dried basil dry bread basil dried oregano dried dried thyme dried parsley tomato paste shredded cheddar seasoned bread parsley dried lean beef thyme dried beans rinsed panko bread cumin dried shredded mozzarella extra virgin cooking spray\n",
      "\n",
      "\n",
      "Cluster 5: boneless breast skinless boneless breast halves grated parmesan lemon juice bread crumbs condensed soup dried oregano shredded cheddar mushroom soup vegetable skinless salad dressing condensed mushroom lime juice chile peppers shredded mozzarella dried thyme breast meat ginger root dried basil\n",
      "\n",
      "\n",
      "Cluster 6: sun dried dried tomatoes grated parmesan packed sun tomatoes packed lemon juice kalamata olives extra virgin pine nuts dried basil balsamic vinegar artichoke hearts basil leaves dried oregano dried tomato bread crumbs penne pasta shredded mozzarella dry wine basil sun\n",
      "\n",
      "\n",
      "This is: (1, 2)\n",
      "Number of Attribute Words (Not Stemmed): 93092\n",
      "Top terms per cluster:\n",
      "Cluster 0: boneless skinless skinless boneless breast boneless breast halves breast halves dried vegetable bell broth juice soup shredded lemon mushrooms large dry condensed wine\n",
      "\n",
      "\n",
      "Cluster 1: large vegetable extract brown egg vinegar beef dry cinnamon chocolate frozen tomatoes bell potatoes bread onions celery beans small soy\n",
      "\n",
      "\n",
      "Cluster 2: baking extract soda baking soda brown cinnamon egg chocolate packed packed brown chips walnuts chocolate chips vegetable baking baking unsweetened extract baking confectioners shortening oats\n",
      "\n",
      "\n",
      "Cluster 3: dried oregano dried oregano basil tomatoes dried basil thyme parsley dried thyme large tomato beef bell broth celery beans vegetable leaves dried parsley wine\n",
      "\n",
      "\n",
      "Cluster 4: grated parmesan grated parmesan shredded dried pasta italian parsley bread freshly mozzarella tomatoes basil large dry crumbs bread crumbs shredded mozzarella freshly grated tomato\n",
      "\n",
      "\n",
      "Cluster 5: juice lemon lemon juice lime orange lime juice orange juice zest large cilantro grated brown vinegar frozen egg vegetable dried ginger cinnamon parsley\n",
      "\n",
      "\n",
      "Cluster 6: shredded cheddar shredded cheddar beef sour bell cooked large tomatoes onions beans potatoes corn soup frozen mozzarella bacon peppers tomato shredded mozzarella\n",
      "\n",
      "\n"
     ]
    }
   ],
   "source": [
    "for gram in vectorizers:\n",
    "    print('This is: ' + str(gram))\n",
    "    cv= CountVectorizer(stop_words = custom_sw, ngram_range = gram)\n",
    "    counts = cv.fit_transform(df[\"ingredients\"])  #sparse matrix with columns corresponding to words\n",
    "    words = cv.get_feature_names() #array with words corresponding to columns\n",
    "    print(\"Number of Attribute Words (Not Stemmed): \" + str(np.shape(words)[0]))\n",
    "    \n",
    "    n=7\n",
    "    km = KMeans(n_clusters = n)\n",
    "    km.fit(counts)\n",
    "  \n",
    "    print(\"Top terms per cluster:\")\n",
    "    order_centroids = km.cluster_centers_.argsort()[:, ::-1]\n",
    "    terms = cv.get_feature_names()\n",
    "    for i in range(n):\n",
    "        top_ten_words = [terms[ind] for ind in order_centroids[i, :20]]\n",
    "        print(\"Cluster {}: {}\".format(i, ' '.join(top_ten_words)))\n",
    "        print('\\n')"
   ]
  },
  {
   "cell_type": "markdown",
   "metadata": {},
   "source": [
    "## Stemming <a class=\"anchor\" id=\"stem\"></a>\n",
    "* Stemmed tokenized words using PorterStemmer to find the roots of each word in ingredients\n",
    "* Updated the count vectorizer to use the custom stemmed tokenizer function"
   ]
  },
  {
   "cell_type": "code",
   "execution_count": 28,
   "metadata": {},
   "outputs": [],
   "source": [
    "stemmer = PorterStemmer()\n",
    "def customTokenizer2(document):\n",
    "    document_list = document.split(\" \")\n",
    "    return [stemmer.stem(word) for word in document_list]"
   ]
  },
  {
   "cell_type": "code",
   "execution_count": 29,
   "metadata": {},
   "outputs": [
    {
     "name": "stderr",
     "output_type": "stream",
     "text": [
      "/Users/alicjawilk/anaconda3/lib/python3.6/site-packages/sklearn/feature_extraction/text.py:300: UserWarning: Your stop_words may be inconsistent with your preprocessing. Tokenizing the stop words generated tokens ['egg', 'purpos'] not in stop_words.\n",
      "  'stop_words.' % sorted(inconsistent))\n"
     ]
    },
    {
     "name": "stdout",
     "output_type": "stream",
     "text": [
      "Number of Attribute Words (Not Stemmed): 93092\n",
      "Number of Attribute Words (Stemmed): 88195\n"
     ]
    }
   ],
   "source": [
    "#Adjusted CountVectorizer for Stemming\n",
    "cv2 = CountVectorizer(tokenizer=customTokenizer2, stop_words=custom_sw, ngram_range = (1,2))\n",
    "#cv2 = CountVectorizer(tokenizer=customTokenizer2, stop_words=customStopWords, ngram_range = (1,1))\n",
    "countsStemmed = cv2.fit_transform(df[\"ingredients\"])\n",
    "wordsStemmed = cv2.get_feature_names()  # array with words corresponding to columns\n",
    "print(\"Number of Attribute Words (Not Stemmed): \" + str(np.shape(words)[0]))\n",
    "print(\"Number of Attribute Words (Stemmed): \" + str(np.shape(wordsStemmed)[0]))"
   ]
  },
  {
   "cell_type": "markdown",
   "metadata": {},
   "source": [
    "## Feature Reduction <a class=\"anchor\" id=\"fr\"></a>\n",
    "\n",
    "### svd of cv\n",
    "* Used SVD to reduce CountVectorizer stemmed sparse features from over 500k to 300 to use with modeling"
   ]
  },
  {
   "cell_type": "code",
   "execution_count": 30,
   "metadata": {},
   "outputs": [
    {
     "name": "stdout",
     "output_type": "stream",
     "text": [
      "Original shape: (45630, 88195)\n",
      "Reduced shape: (45630, 300)\n"
     ]
    }
   ],
   "source": [
    "X = countsStemmed\n",
    "svd_train, svd_test = train_test_split(X, test_size = 0.2, random_state = 747)\n",
    "\n",
    "\n",
    "svd = TruncatedSVD(n_components=300)\n",
    "svd.fit(countsStemmed)\n",
    "countsStemmed_svd = svd.transform(countsStemmed)\n",
    "\n",
    "print(\"Original shape: {}\".format(str(countsStemmed.shape)))\n",
    "print(\"Reduced shape: {}\".format(str(countsStemmed_svd.shape)))"
   ]
  },
  {
   "cell_type": "markdown",
   "metadata": {},
   "source": [
    "### word2vec \n",
    "\n",
    "* We generate tokens of words from ingredients in the train and test splits and for the full ingredients list of the recipe dataframe\n",
    "* The full tokens are used to generate word vectors which are used to generate vector representations for the train, test and full recipe dataframes.\n",
    "\n"
   ]
  },
  {
   "cell_type": "code",
   "execution_count": 31,
   "metadata": {},
   "outputs": [],
   "source": [
    "# Split into train, test\n",
    "train_df, test_df = train_test_split(df, test_size = .3)\n",
    "trainTokens = []\n",
    "for s in train_df['ingredients'].tolist():\n",
    "    trainTokens.append(gensim.utils.simple_preprocess(s))\n",
    "\n",
    "    \n",
    "testTokens = []\n",
    "for s in test_df['ingredients'].tolist():\n",
    "    testTokens.append(gensim.utils.simple_preprocess(s))\n",
    "\n",
    "    \n",
    "fullTokens = []\n",
    "for s in df['ingredients'].tolist():\n",
    "    fullTokens.append(gensim.utils.simple_preprocess(s))"
   ]
  },
  {
   "cell_type": "code",
   "execution_count": 32,
   "metadata": {},
   "outputs": [],
   "source": [
    "#Generating word vectors; adjusted MIN_COUNT to 50, default was 10\n",
    "model = Word2Vec(fullTokens, size=100, window=3, min_count=50, workers=4)\n",
    "word_vectors = model.wv"
   ]
  },
  {
   "cell_type": "code",
   "execution_count": 33,
   "metadata": {},
   "outputs": [
    {
     "data": {
      "text/plain": [
       "[('molasses', 0.8145045638084412),\n",
       " ('nectar', 0.7698171138763428),\n",
       " ('asian', 0.7640025019645691),\n",
       " ('mirin', 0.7635637521743774),\n",
       " ('dijon', 0.7531182169914246),\n",
       " ('tahini', 0.7411420345306396),\n",
       " ('sake', 0.7368517518043518),\n",
       " ('dark', 0.7343244552612305),\n",
       " ('cornstarch', 0.7298605442047119),\n",
       " ('syrup', 0.7277550101280212)]"
      ]
     },
     "execution_count": 33,
     "metadata": {},
     "output_type": "execute_result"
    }
   ],
   "source": [
    "word_vectors.most_similar_cosmul(['honey'])"
   ]
  },
  {
   "cell_type": "markdown",
   "metadata": {},
   "source": [
    "#### Generating w2v vectors based on word vectors based on words in the ingredients in train, test and the full recipe dataframes"
   ]
  },
  {
   "cell_type": "code",
   "execution_count": 34,
   "metadata": {},
   "outputs": [],
   "source": [
    "train_w2v = np.zeros((len(df_train), word_vectors['pepper'].shape[0]))\n",
    "idx = 0\n",
    "for s in trainTokens:\n",
    "    ws = []\n",
    "    for w in s:\n",
    "        if w in word_vectors:\n",
    "            ws.append(w)\n",
    "    if len(ws) is not 0:\n",
    "        train_w2v[idx] = np.mean(word_vectors[ws], axis=0)\n",
    "    idx += 1\n",
    "\n",
    "\n",
    "test_w2v = np.zeros((len(df_test), word_vectors['pepper'].shape[0]))\n",
    "idx = 0\n",
    "for s in testTokens:\n",
    "    ws = []\n",
    "    for w in s:\n",
    "        if w in word_vectors:\n",
    "            ws.append(w)\n",
    "    if len(ws) is not 0:\n",
    "        test_w2v[idx] = np.mean(word_vectors[ws], axis=0)\n",
    "    idx += 1\n",
    "    \n",
    "full_w2v = np.zeros((len(df), word_vectors['pepper'].shape[0]))\n",
    "idx = 0\n",
    "for s in fullTokens:\n",
    "    ws = []\n",
    "    for w in s:\n",
    "        if w in word_vectors:\n",
    "            ws.append(w)\n",
    "    if len(ws) is not 0:\n",
    "        full_w2v[idx] = np.mean(word_vectors[ws], axis=0)\n",
    "    idx += 1"
   ]
  },
  {
   "cell_type": "markdown",
   "metadata": {},
   "source": [
    "## Machine Learning Models <a class=\"anchor\" id=\"ml\"></a>"
   ]
  },
  {
   "cell_type": "markdown",
   "metadata": {},
   "source": [
    "### Linear Regression \n",
    "\n",
    "Very worst model but it was interesting to give it a try."
   ]
  },
  {
   "cell_type": "code",
   "execution_count": 47,
   "metadata": {},
   "outputs": [
    {
     "name": "stdout",
     "output_type": "stream",
     "text": [
      "(45630, 17)\n"
     ]
    },
    {
     "data": {
      "text/html": [
       "<div>\n",
       "<style scoped>\n",
       "    .dataframe tbody tr th:only-of-type {\n",
       "        vertical-align: middle;\n",
       "    }\n",
       "\n",
       "    .dataframe tbody tr th {\n",
       "        vertical-align: top;\n",
       "    }\n",
       "\n",
       "    .dataframe thead th {\n",
       "        text-align: right;\n",
       "    }\n",
       "</style>\n",
       "<table border=\"1\" class=\"dataframe\">\n",
       "  <thead>\n",
       "    <tr style=\"text-align: right;\">\n",
       "      <th></th>\n",
       "      <th>recipe_id</th>\n",
       "      <th>recipe_name</th>\n",
       "      <th>image_url</th>\n",
       "      <th>ingredients</th>\n",
       "      <th>cooking_directions</th>\n",
       "      <th>nutritions</th>\n",
       "      <th>avg_rating</th>\n",
       "      <th>count</th>\n",
       "      <th>weighted_rating</th>\n",
       "      <th>ingredients_new</th>\n",
       "      <th>ingredientsTokenized</th>\n",
       "      <th>lengthDirections</th>\n",
       "      <th>lengthIngredients</th>\n",
       "      <th>PrepTime</th>\n",
       "      <th>CookTime</th>\n",
       "      <th>ReadyInTime</th>\n",
       "      <th>clusterID</th>\n",
       "    </tr>\n",
       "  </thead>\n",
       "  <tbody>\n",
       "    <tr>\n",
       "      <th>0</th>\n",
       "      <td>240488</td>\n",
       "      <td>Pork Loin, Apples, and Sauerkraut</td>\n",
       "      <td>https://images.media-allrecipes.com/userphotos...</td>\n",
       "      <td>sauerkraut drained granny smith apples sliced ...</td>\n",
       "      <td>{'directions': u'Prep\\n15 m\\nCook\\n2 h 30 m\\nR...</td>\n",
       "      <td>{u'niacin': {u'hasCompleteData': False, u'name...</td>\n",
       "      <td>4.269739</td>\n",
       "      <td>4.269739</td>\n",
       "      <td>4.269739</td>\n",
       "      <td>[sauerkraut drained, granny smith apples slice...</td>\n",
       "      <td>[sauerkraut, drained, granny, smith, apples, s...</td>\n",
       "      <td>833</td>\n",
       "      <td>182</td>\n",
       "      <td>15</td>\n",
       "      <td>150</td>\n",
       "      <td>165</td>\n",
       "      <td>3</td>\n",
       "    </tr>\n",
       "  </tbody>\n",
       "</table>\n",
       "</div>"
      ],
      "text/plain": [
       "   recipe_id                        recipe_name  \\\n",
       "0     240488  Pork Loin, Apples, and Sauerkraut   \n",
       "\n",
       "                                           image_url  \\\n",
       "0  https://images.media-allrecipes.com/userphotos...   \n",
       "\n",
       "                                         ingredients  \\\n",
       "0  sauerkraut drained granny smith apples sliced ...   \n",
       "\n",
       "                                  cooking_directions  \\\n",
       "0  {'directions': u'Prep\\n15 m\\nCook\\n2 h 30 m\\nR...   \n",
       "\n",
       "                                          nutritions  avg_rating     count  \\\n",
       "0  {u'niacin': {u'hasCompleteData': False, u'name...    4.269739  4.269739   \n",
       "\n",
       "   weighted_rating                                    ingredients_new  \\\n",
       "0         4.269739  [sauerkraut drained, granny smith apples slice...   \n",
       "\n",
       "                                ingredientsTokenized  lengthDirections  \\\n",
       "0  [sauerkraut, drained, granny, smith, apples, s...               833   \n",
       "\n",
       "   lengthIngredients PrepTime CookTime ReadyInTime  clusterID  \n",
       "0                182       15      150         165          3  "
      ]
     },
     "execution_count": 47,
     "metadata": {},
     "output_type": "execute_result"
    }
   ],
   "source": [
    "df['clusterID'] = km.fit_predict(countsStemmed_svd)\n",
    "print(df.shape)\n",
    "df.head(1)"
   ]
  },
  {
   "cell_type": "code",
   "execution_count": 50,
   "metadata": {},
   "outputs": [],
   "source": [
    "X = df[['count', 'lengthDirections', 'lengthIngredients','PrepTime', 'CookTime',\n",
    "           'ReadyInTime', 'clusterID']] #'cntUserRating','weightedUserRating']]\n",
    "#Set up the dependent (Y)\n",
    "y = df['avg_rating']\n",
    "#y = df['weightedRecipeRating']\n",
    "    \n",
    "X_train, X_test, y_train, y_test= train_test_split(X, y, test_size=0.2)\n",
    "linReg = LinearRegression()\n",
    "linReg = linReg.fit(X_train, y_train)"
   ]
  },
  {
   "cell_type": "code",
   "execution_count": 51,
   "metadata": {},
   "outputs": [],
   "source": [
    "def run_linear_regression(df):\n",
    "    lin_pred = linReg.predict(X_test)\n",
    "    r2 = linReg.score(X_test, y_test)\n",
    "    print(\"R-squared value: \" + str(r2))\n",
    "    linReg_mse = MSE(y_test, lin_pred)\n",
    "    linReg_mad = MAD(y_test, lin_pred)\n",
    "    print('Mean Squared Error {:.2f}'.format(linReg_mse))\n",
    "    print('Mean Absolute Deviation {:.2f}'.format(linReg_mad))\n",
    "    return(linReg)"
   ]
  },
  {
   "cell_type": "code",
   "execution_count": 53,
   "metadata": {},
   "outputs": [
    {
     "name": "stdout",
     "output_type": "stream",
     "text": [
      "R-squared value: 0.018195445766094887\n",
      "Mean Squared Error 0.23\n",
      "Mean Absolute Deviation 0.28\n",
      "[ 1.16380971e-03  5.56686306e-08  3.42857320e-04  9.04178213e-04\n",
      " -2.55524888e-04  1.18081291e-04  1.64544455e-03]\n"
     ]
    }
   ],
   "source": [
    "run_linear_regression(df)\n",
    "print(linReg.coef_)"
   ]
  },
  {
   "cell_type": "markdown",
   "metadata": {},
   "source": [
    "### MultinominalNB <a class=\"anchor\" id=\"mnb\"></a>"
   ]
  },
  {
   "cell_type": "code",
   "execution_count": 67,
   "metadata": {},
   "outputs": [],
   "source": [
    "X_MNB = countsStemmed\n",
    "#X_MNB = countsStemmed_svd\n",
    "\n",
    "df['avg_ratingDiscrete'] = df['avg_rating'].round(0)\n",
    "df['weighted_ratingDiscrete'] = df['weighted_rating'].round(0)\n",
    "\n",
    "y_MNB = df['avg_ratingDiscrete']\n",
    "X_trainMNB, X_testMNB, y_trainMNB, y_testMNB= train_test_split(X_MNB, y_MNB, test_size=0.2)\n",
    "mnb = MNB(alpha=1.0, fit_prior=True, class_prior=None)\n",
    "\n",
    "def run_MNB(df):\n",
    "    mnb.fit(X_trainMNB, y_trainMNB)\n",
    "    y_predMNB = mnb.predict(X_testMNB)\n",
    "    y_predMNB = pd.Series(y_predMNB)\n",
    "    MNB_mad = MAD(y_testMNB, y_predMNB)\n",
    "    MNB_F1 = f1_score(y_testMNB, y_predMNB, average='weighted', labels=[1.0, 2.0, 3.0, 4.0, 5.0])\n",
    "    #y_predDT = y_predDT.astype('category')\n",
    "    print(\"Accuracy: \" + str(accuracy_score(y_testMNB, y_predMNB)))\n",
    "    print('Mean Absolute Deviation {:.2f}'.format(MNB_mad))\n",
    "    print('F1 {:.3f}'.format(MNB_F1))\n",
    "    print(\"Actual:\\n\",y_testMNB.head(5))\n",
    "    print(\"Predicted:\\n\",y_predMNB.head(5))\n",
    "    cm = confusion_matrix(y_testMNB, y_predMNB, labels=[1.0, 2.0, 3.0, 4.0, 5.0])\n",
    "    print(\"Predicted Ratings-->\\n\",\n",
    "      \"['1'\\t'2'\\t'3'\\t'4'\\t'5']\\n\\n\",cm)"
   ]
  },
  {
   "cell_type": "code",
   "execution_count": 68,
   "metadata": {},
   "outputs": [
    {
     "name": "stdout",
     "output_type": "stream",
     "text": [
      "Accuracy: 0.6726934034626343\n",
      "Mean Absolute Deviation 0.36\n",
      "F1 0.649\n",
      "Actual:\n",
      " 12801    4.0\n",
      "32280    4.0\n",
      "41682    4.0\n",
      "8160     4.0\n",
      "3300     4.0\n",
      "Name: avg_ratingDiscrete, dtype: float64\n",
      "Predicted:\n",
      " 0    4.0\n",
      "1    4.0\n",
      "2    4.0\n",
      "3    4.0\n",
      "4    4.0\n",
      "dtype: float64\n",
      "Predicted Ratings-->\n",
      " ['1'\t'2'\t'3'\t'4'\t'5']\n",
      "\n",
      " [[   0    0    0   15    4]\n",
      " [   0    0    0   77   28]\n",
      " [   0    0    1  238   78]\n",
      " [   0    0    5 5421 1115]\n",
      " [   0    0    0 1427  717]]\n"
     ]
    },
    {
     "name": "stderr",
     "output_type": "stream",
     "text": [
      "/Users/alicjawilk/anaconda3/lib/python3.6/site-packages/sklearn/metrics/classification.py:1143: UndefinedMetricWarning: F-score is ill-defined and being set to 0.0 in labels with no predicted samples.\n",
      "  'precision', 'predicted', average, warn_for)\n"
     ]
    }
   ],
   "source": [
    "run_MNB(df)"
   ]
  },
  {
   "cell_type": "code",
   "execution_count": 69,
   "metadata": {},
   "outputs": [
    {
     "name": "stdout",
     "output_type": "stream",
     "text": [
      "Accuracy of Bagging Classifier: 0.676\n"
     ]
    }
   ],
   "source": [
    "#BAGGING\n",
    "bc = BaggingClassifier(base_estimator=mnb, n_estimators=300, n_jobs=-1)\n",
    "bc.fit(X_trainMNB, y_trainMNB)\n",
    "y_pred_bc = bc.predict(X_testMNB)\n",
    "accuracy_bc = accuracy_score(y_testMNB, y_pred_bc)\n",
    "print('Accuracy of Bagging Classifier: {:.3f}'.format(accuracy_bc))"
   ]
  },
  {
   "cell_type": "markdown",
   "metadata": {},
   "source": [
    "### **Decision Tree Classifier with Custom Features Vector** <a class=\"anchor\" id=\"dt1\"></a>\n",
    "\n",
    "Because our models were not doing very well, we decided to create a custom feature vector to use that would incorporate our custom features regarding the length of ingredients, directions, the preparation times, and the cluster which would factor in the stemmed count vectorizers.  This was our most accurate model and the one we submitted to Kaggle.\n",
    "    - Accuracy = 83%\n",
    "    - MAD = .19\n",
    "    - Predicted one 2, and all the rest 3's, 4's, and 5's\n",
    "    \n",
    "**Next steps** : perform Grid Search for Parameters that best fit our Decision Tree Models,hyperparameters corresponding to the best vectorizer score."
   ]
  },
  {
   "cell_type": "code",
   "execution_count": 72,
   "metadata": {},
   "outputs": [],
   "source": [
    "class CustomFeats(BaseEstimator, TransformerMixin):\n",
    "    def __init__(self):\n",
    "      self.feat_names = set()\n",
    "\n",
    "    def fit(self, x, y=None):\n",
    "        return self\n",
    "\n",
    "    @staticmethod\n",
    "    def features(recipe):\n",
    "      return {\n",
    "          'lenIngred' : (recipe['lengthIngredients']),\n",
    "          'lenDirec' : (recipe['lengthDirections']),\n",
    "          'Prep' : (recipe['PrepTime']),\n",
    "          'Cook' : (recipe['CookTime']),\n",
    "          'ReadyIn' : (recipe['ReadyInTime']),\n",
    "          'AvgRating' : (recipe['avg_rating']),\n",
    "          'CntRating' : (recipe['count']),\n",
    "          'Cluster'  :  (recipe['clusterID']),\n",
    "          'WeightedRating' : (recipe['weighted_rating'])\n",
    "          \n",
    "      }\n",
    "\n",
    "    def get_feature_names(self):\n",
    "        return list(self.feat_names)\n",
    "      \n",
    "    def transform(self, recipe):\n",
    "      feats = []\n",
    "      for index,row in recipe.iterrows():\n",
    "        f = self.features(row)\n",
    "        [self.feat_names.add(k) for k in f] \n",
    "        feats.append(f)\n",
    "      return feats\n",
    "    \n",
    "\n",
    "feats = make_pipeline(CustomFeats(), DictVectorizer())\n",
    "#feats = FeatureUnion([\n",
    "#     ('custom', make_pipeline(CustomFeats(), DictVectorizer())),\n",
    "#     ('tfidf', TfidfVectorizer(stop_words = customStopWords, ngram_range = (1,2)))])\n",
    "#     ('bag_of_words', cv2)]) # or countsStemmed?\n",
    "#    ('SVD', svd )]) # or countsStemmed_svd"
   ]
  },
  {
   "cell_type": "code",
   "execution_count": 86,
   "metadata": {},
   "outputs": [
    {
     "name": "stdout",
     "output_type": "stream",
     "text": [
      "[4. 5. 3. 2. 1.]\n"
     ]
    },
    {
     "name": "stderr",
     "output_type": "stream",
     "text": [
      "/Users/alicjawilk/anaconda3/lib/python3.6/site-packages/ipykernel_launcher.py:12: UserWarning: Pandas doesn't allow columns to be created via a new attribute name - see https://pandas.pydata.org/pandas-docs/stable/indexing.html#attribute-access\n",
      "  if sys.path[0] == '':\n",
      "/Users/alicjawilk/anaconda3/lib/python3.6/site-packages/ipykernel_launcher.py:13: UserWarning: Pandas doesn't allow columns to be created via a new attribute name - see https://pandas.pydata.org/pandas-docs/stable/indexing.html#attribute-access\n",
      "  del sys.path[0]\n"
     ]
    },
    {
     "name": "stdout",
     "output_type": "stream",
     "text": [
      "(36504, 157) (9126, 157)\n"
     ]
    },
    {
     "data": {
      "text/plain": [
       "Pipeline(memory=None,\n",
       "     steps=[('pipeline', Pipeline(memory=None,\n",
       "     steps=[('customfeats', CustomFeats()), ('dictvectorizer', DictVectorizer(dtype=<class 'numpy.float64'>, separator='=', sort=True,\n",
       "        sparse=True))])), ('decisiontreeclassifier', DecisionTreeClassifier(class_weight=None, criterion='gini', max_depth=...         min_weight_fraction_leaf=0.0, presort=False, random_state=1,\n",
       "            splitter='best'))])"
      ]
     },
     "execution_count": 86,
     "metadata": {},
     "output_type": "execute_result"
    }
   ],
   "source": [
    "X_DT = df[:]\n",
    "\n",
    "y_DT = df['avg_ratingDiscrete'] #array of labels\n",
    "X_trainDT, X_testDT, y_trainDT, y_testDT= train_test_split(X_DT, y_DT, test_size=0.2)\n",
    "dt = DecisionTreeClassifier(max_depth=8, random_state=1, max_features = \"log2\")\n",
    "print(y_DT.unique())\n",
    "\n",
    "X_trainDT.vecs = feats.fit_transform(X_trainDT)\n",
    "X_testDT.vecs = feats.transform(X_testDT)\n",
    "print(X_trainDT.vecs.shape, X_testDT.vecs.shape)\n",
    "\n",
    "dt_model = make_pipeline(feats, dt)\n",
    "dt_model.fit(X_trainDT, y_trainDT)\n",
    "\n"
   ]
  },
  {
   "cell_type": "code",
   "execution_count": 90,
   "metadata": {},
   "outputs": [],
   "source": [
    "def run_decision_tree(df):\n",
    "    \n",
    "    y_predDT = dt_model.predict(X_testDT)\n",
    "#    dt.fit(X_trainDT, y_trainDT)\n",
    "#    y_predDT = dt.predict(X_testDT)\n",
    "    y_predDT = pd.Series(y_predDT)\n",
    "    DT_mad = MAD(y_testDT, y_predDT)\n",
    "    DT_F1 = f1_score(y_testDT, y_predDT, average='weighted', labels=[1.0, 2.0, 3.0, 4.0, 5.0]) #average='macro' , average='micro', average='weighted', None\n",
    "    #y_predDT = y_predDT.astype('category')\n",
    "    print(\"Accuracy: \" + str(accuracy_score(y_testDT, y_predDT)))\n",
    "    print('Mean Absolute Deviation {:.2f}'.format(DT_mad))\n",
    "    print('F1 {:.3f}'.format(DT_F1))\n",
    "    print(\"Actual:\\n\",y_testDT.head(5))\n",
    "    print(\"Predicted:\\n\",y_predDT.head(5))\n",
    "    cm = confusion_matrix(y_testDT, y_predDT, labels=[1.0, 2.0, 3.0, 4.0, 5.0])\n",
    "    print(\"Predicted Ratings-->\\n\",\n",
    "      \"['1'\\t'2'\\t'3'\\t'4'\\t'5']\\n\\n\",cm)"
   ]
  },
  {
   "cell_type": "code",
   "execution_count": 91,
   "metadata": {},
   "outputs": [
    {
     "name": "stdout",
     "output_type": "stream",
     "text": [
      "Accuracy: 0.8224852071005917\n",
      "Mean Absolute Deviation 0.19\n",
      "F1 0.785\n",
      "Actual:\n",
      " 39983    4.0\n",
      "25725    5.0\n",
      "44624    4.0\n",
      "3195     4.0\n",
      "11057    4.0\n",
      "Name: avg_ratingDiscrete, dtype: float64\n",
      "Predicted:\n",
      " 0    4.0\n",
      "1    4.0\n",
      "2    4.0\n",
      "3    4.0\n",
      "4    4.0\n",
      "dtype: float64\n",
      "Predicted Ratings-->\n",
      " ['1'\t'2'\t'3'\t'4'\t'5']\n",
      "\n",
      " [[   0    0    0   31    0]\n",
      " [   0    0    0   96    0]\n",
      " [   0    0    0  340    1]\n",
      " [   0    0    1 6474   18]\n",
      " [   0    0    0 1133 1032]]\n"
     ]
    },
    {
     "name": "stderr",
     "output_type": "stream",
     "text": [
      "/Users/alicjawilk/anaconda3/lib/python3.6/site-packages/sklearn/metrics/classification.py:1143: UndefinedMetricWarning: F-score is ill-defined and being set to 0.0 in labels with no predicted samples.\n",
      "  'precision', 'predicted', average, warn_for)\n"
     ]
    }
   ],
   "source": [
    "run_decision_tree(df)"
   ]
  },
  {
   "cell_type": "code",
   "execution_count": 94,
   "metadata": {},
   "outputs": [
    {
     "name": "stderr",
     "output_type": "stream",
     "text": [
      "/Users/alicjawilk/anaconda3/lib/python3.6/site-packages/scipy/stats/stats.py:1713: FutureWarning: Using a non-tuple sequence for multidimensional indexing is deprecated; use `arr[tuple(seq)]` instead of `arr[seq]`. In the future this will be interpreted as an array index, `arr[np.array(seq)]`, which will result either in an error or a different result.\n",
      "  return np.add.reduce(sorted[indexer] * weights, axis=axis) / sumval\n",
      "No handles with labels found to put in legend.\n"
     ]
    },
    {
     "data": {
      "image/png": "[encoded data removed]",
      "text/plain": [
       "<Figure size 432x288 with 1 Axes>"
      ]
     },
     "metadata": {
      "needs_background": "light"
     },
     "output_type": "display_data"
    }
   ],
   "source": [
    "feature_imp = pd.Series(dt.feature_importances_).sort_values(ascending=False)\n",
    "feature_imp = feature_imp.round(2)\n",
    "\n",
    "import matplotlib.pyplot as plt\n",
    "import seaborn as sns\n",
    "%matplotlib inline\n",
    "sns.barplot(x=feature_imp, y=feature_imp.index)\n",
    "plt.xlabel('Feature Importance Score')\n",
    "plt.ylabel('Features')\n",
    "plt.title(\"Visualizing Important Features\")\n",
    "plt.legend()\n",
    "plt.show()"
   ]
  },
  {
   "cell_type": "markdown",
   "metadata": {},
   "source": [
    "## Decision Tree using word2vec <a class=\"anchor\" id=\"dt2\"></a>\n",
    "    - Accuracy = 70%\n",
    "    - MAD = .31\n",
    "    - Better distribution of predictions, more #'s but worse accuracy\n",
    "    \n",
    "    The Decision Tree Model would be improved if we split on the important features, it would also help to have cross validation here to help with the unbiased data. "
   ]
  },
  {
   "cell_type": "code",
   "execution_count": 99,
   "metadata": {},
   "outputs": [
    {
     "name": "stdout",
     "output_type": "stream",
     "text": [
      "[4. 5. 3. 2. 1.]\n"
     ]
    }
   ],
   "source": [
    "X_DT = full_w2v\n",
    "y_DT = df['avg_ratingDiscrete'] #array of labels\n",
    "X_trainDT, X_testDT, y_trainDT, y_testDT= train_test_split(X_DT, y_DT, test_size=0.2)\n",
    "dt = DecisionTreeClassifier(max_depth=8, random_state=1, max_features = \"log2\")\n",
    "print(y_DT.unique())"
   ]
  },
  {
   "cell_type": "code",
   "execution_count": 100,
   "metadata": {},
   "outputs": [],
   "source": [
    "def run_decision_tree(df):\n",
    "    dt.fit(X_trainDT, y_trainDT)\n",
    "    y_predDT = dt.predict(X_testDT)\n",
    "    y_predDT = pd.Series(y_predDT)\n",
    "    DT_mad = MAD(y_testDT, y_predDT)\n",
    "    DT_F1 = f1_score(y_testDT, y_predDT, average='weighted', labels=[1.0, 2.0, 3.0, 4.0, 5.0]) #average='macro' , average='micro', average='weighted', None\n",
    "    #y_predDT = y_predDT.astype('category')\n",
    "    print(\"Accuracy: \" + str(accuracy_score(y_testDT, y_predDT)))\n",
    "    print('Mean Absolute Deviation {:.2f}'.format(DT_mad))\n",
    "    print('F1 {:.3f}'.format(DT_F1))\n",
    "    print(\"Actual:\\n\",y_testDT.head(5))\n",
    "    print(\"Predicted:\\n\",y_predDT.head(5))\n",
    "    cm = confusion_matrix(y_testDT, y_predDT, labels=[1.0, 2.0, 3.0, 4.0, 5.0])\n",
    "    print(\"Predicted Ratings-->\\n\",\n",
    "      \"['1'\\t'2'\\t'3'\\t'4'\\t'5']\\n\\n\",cm)"
   ]
  },
  {
   "cell_type": "code",
   "execution_count": 102,
   "metadata": {},
   "outputs": [
    {
     "name": "stdout",
     "output_type": "stream",
     "text": [
      "Accuracy: 0.705347359193513\n",
      "Mean Absolute Deviation 0.31\n",
      "F1 0.613\n",
      "Actual:\n",
      " 45206    5.0\n",
      "34143    4.0\n",
      "18680    5.0\n",
      "29613    5.0\n",
      "20647    4.0\n",
      "Name: avg_ratingDiscrete, dtype: float64\n",
      "Predicted:\n",
      " 0    4.0\n",
      "1    4.0\n",
      "2    4.0\n",
      "3    4.0\n",
      "4    5.0\n",
      "dtype: float64\n",
      "Predicted Ratings-->\n",
      " ['1'\t'2'\t'3'\t'4'\t'5']\n",
      "\n",
      " [[   0    0    0   26    1]\n",
      " [   0    0    0   73    9]\n",
      " [   0    0    0  315   12]\n",
      " [   0    0    1 6327  214]\n",
      " [   0    1    1 2036  110]]\n"
     ]
    },
    {
     "name": "stderr",
     "output_type": "stream",
     "text": [
      "/Users/alicjawilk/anaconda3/lib/python3.6/site-packages/sklearn/metrics/classification.py:1143: UndefinedMetricWarning: F-score is ill-defined and being set to 0.0 in labels with no predicted samples.\n",
      "  'precision', 'predicted', average, warn_for)\n"
     ]
    }
   ],
   "source": [
    "run_decision_tree(df)"
   ]
  },
  {
   "cell_type": "markdown",
   "metadata": {},
   "source": [
    "## Bagging <a class=\"anchor\" id=\"bagging\"></a>"
   ]
  },
  {
   "cell_type": "markdown",
   "metadata": {},
   "source": [
    "Bagging improved accuracy to 72%\n",
    "SG Boosting improved accuracy to 72% "
   ]
  },
  {
   "cell_type": "code",
   "execution_count": 103,
   "metadata": {},
   "outputs": [
    {
     "name": "stdout",
     "output_type": "stream",
     "text": [
      "Accuracy of Bagging Classifier: 0.717\n"
     ]
    }
   ],
   "source": [
    "\n",
    "bc = BaggingClassifier(base_estimator=dt, n_estimators=300, n_jobs=-1)\n",
    "bc.fit(X_trainDT, y_trainDT)\n",
    "y_pred_bc = bc.predict(X_testDT)\n",
    "accuracy_bc = accuracy_score(y_testDT, y_pred_bc)\n",
    "print('Accuracy of Bagging Classifier: {:.3f}'.format(accuracy_bc))"
   ]
  },
  {
   "cell_type": "markdown",
   "metadata": {},
   "source": [
    "## Stochastic Gradient Boosting <a class=\"anchor\" id=\"sgb\"></a>\n"
   ]
  },
  {
   "cell_type": "code",
   "execution_count": 106,
   "metadata": {},
   "outputs": [
    {
     "name": "stdout",
     "output_type": "stream",
     "text": [
      "Accuracy Stochastic Gradient Boosting: 0.7161954854262547\n",
      "Test set MAD: 0.30\n"
     ]
    }
   ],
   "source": [
    "SEED = 1\n",
    "sgbt = GradientBoostingClassifier(max_depth=1, \n",
    "                                 subsample=0.8,\n",
    "                                 max_features=0.2, \n",
    "                                 n_estimators=300, \n",
    "                                 random_state=SEED)\n",
    "\n",
    "sgbt.fit(X_trainDT, y_trainDT)\n",
    "y_pred_sgbt = sgbt.predict(X_testDT)\n",
    "print('Accuracy Stochastic Gradient Boosting: '+  str(accuracy_score(y_testDT, y_pred_sgbt)))\n",
    "\n",
    "\n",
    "mad_test = MAD(y_testDT, y_pred_sgbt)\n",
    "print('Test set MAD: {:.2f}'.format(mad_test))"
   ]
  },
  {
   "cell_type": "markdown",
   "metadata": {},
   "source": [
    "## Random Forest <a class=\"anchor\" id=\"rf\"></a>\n",
    "    - Accuracy = 71%\n",
    "    - MAD = .3\n",
    "\n",
    "We set bootstrap to True which means that our samples are with replacement which is creating random samples. Creating random samples helps with overfitting. Also Random Forests are computionally faster which can be an advatage with our data set as well. \n",
    "\n",
    "**The next step:** split on the best features only, end include those features in our X split. This step would help with the noise. \n",
    "\n"
   ]
  },
  {
   "cell_type": "code",
   "execution_count": 108,
   "metadata": {},
   "outputs": [
    {
     "name": "stderr",
     "output_type": "stream",
     "text": [
      "/Users/alicjawilk/anaconda3/lib/python3.6/site-packages/sklearn/ensemble/forest.py:246: FutureWarning: The default value of n_estimators will change from 10 in version 0.20 to 100 in 0.22.\n",
      "  \"10 in version 0.20 to 100 in 0.22.\", FutureWarning)\n"
     ]
    },
    {
     "name": "stdout",
     "output_type": "stream",
     "text": [
      "Accuracy: 0.7168529476221784\n",
      "Mean Absolute Deviation 0.30\n",
      "F1 0.599\n",
      "Actual:\n",
      " 45206    5.0\n",
      "34143    4.0\n",
      "18680    5.0\n",
      "29613    5.0\n",
      "20647    4.0\n",
      "Name: avg_ratingDiscrete, dtype: float64\n"
     ]
    },
    {
     "name": "stderr",
     "output_type": "stream",
     "text": [
      "/Users/alicjawilk/anaconda3/lib/python3.6/site-packages/sklearn/metrics/classification.py:1143: UndefinedMetricWarning: F-score is ill-defined and being set to 0.0 in labels with no predicted samples.\n",
      "  'precision', 'predicted', average, warn_for)\n"
     ]
    }
   ],
   "source": [
    "SEED = 1\n",
    "rf = RandomForestClassifier(max_depth = 8, min_samples_leaf=0.12,random_state=SEED)\n",
    "rf.fit(X_trainDT, y_trainDT)\n",
    "y_pred_rf = rf.predict(X_testDT)\n",
    "mse_test = MSE(y_testDT, y_pred_rf)\n",
    "print(\"Accuracy: \" + str(accuracy_score(y_testDT, y_pred_rf)))\n",
    "\n",
    "RF_mad = MAD(y_testDT, y_pred_rf)\n",
    "RF_F1 = f1_score(y_testDT, y_pred_rf, average='weighted', labels=[1.0, 2.0, 3.0, 4.0, 5.0]) #average='macro' , average='micro', average='weighted', None\n",
    "\n",
    "print('Mean Absolute Deviation {:.2f}'.format(RF_mad))\n",
    "print('F1 {:.3f}'.format(RF_F1))\n",
    "print(\"Actual:\\n\",y_testDT.head(5))\n",
    "\n"
   ]
  },
  {
   "cell_type": "code",
   "execution_count": 109,
   "metadata": {},
   "outputs": [
    {
     "name": "stderr",
     "output_type": "stream",
     "text": [
      "/Users/alicjawilk/anaconda3/lib/python3.6/site-packages/scipy/stats/stats.py:1713: FutureWarning: Using a non-tuple sequence for multidimensional indexing is deprecated; use `arr[tuple(seq)]` instead of `arr[seq]`. In the future this will be interpreted as an array index, `arr[np.array(seq)]`, which will result either in an error or a different result.\n",
      "  return np.add.reduce(sorted[indexer] * weights, axis=axis) / sumval\n",
      "No handles with labels found to put in legend.\n"
     ]
    },
    {
     "data": {
      "image/png": "[encoded data removed]",
      "text/plain": [
       "<Figure size 432x288 with 1 Axes>"
      ]
     },
     "metadata": {
      "needs_background": "light"
     },
     "output_type": "display_data"
    }
   ],
   "source": [
    "feature_imp = pd.Series(rf.feature_importances_).sort_values(ascending=False)\n",
    "feature_imp = feature_imp.round(2)\n",
    "\n",
    "import matplotlib.pyplot as plt\n",
    "import seaborn as sns\n",
    "%matplotlib inline\n",
    "sns.barplot(x=feature_imp, y=feature_imp.index)\n",
    "plt.xlabel('Feature Importance Score')\n",
    "plt.ylabel('Features')\n",
    "plt.title(\"Visualizing Important Features\")\n",
    "plt.legend()\n",
    "plt.show()"
   ]
  },
  {
   "cell_type": "markdown",
   "metadata": {},
   "source": [
    "## Logistic Regression using SVD <a class=\"anchor\" id=\"lr\"></a>\n",
    "    - Accuracy = 70%\n",
    "    - MAD = .32"
   ]
  },
  {
   "cell_type": "code",
   "execution_count": 115,
   "metadata": {},
   "outputs": [],
   "source": [
    "X_LR = countsStemmed_svd\n",
    "y_LR = df['avg_ratingDiscrete'] \n",
    "X_trainLR, X_testLR, y_trainLR, y_testLR= train_test_split(X_LR, y_LR, test_size=0.2)\n",
    "logr = LogisticRegression(random_state=0, solver='lbfgs',multi_class='multinomial', max_iter = 4000)\n",
    "\n",
    "\n",
    "def run_logistic_regression(df):\n",
    "    logr.fit(X_trainLR, y_trainLR)\n",
    "    y_predLR = logr.predict(X_testLR)\n",
    "    y_predLR = pd.Series(y_predLR)\n",
    "    print(y_predLR.mean())\n",
    "    LR_mad = MAD(y_testLR, y_predLR)\n",
    "    LR_F1 = f1_score(y_testLR, y_predLR, average='weighted', labels=[1.0, 2.0, 3.0, 4.0, 5.0]) #average='macro' , average='micro', average='weighted', None\n",
    "    print(\"Accuracy: \" + str(accuracy_score(y_testLR, y_predLR)))\n",
    "    print('Mean Absolute Deviation {:.2f}'.format(LR_mad))\n",
    "    print('F1 {:.3f}'.format(LR_F1))\n",
    "    print(\"Actual:\\n\",y_testLR.head(5))\n",
    "    print(\"Predicted:\\n\",y_predLR.head(5))\n",
    "    cm = confusion_matrix(y_testLR, y_predLR, labels=[1.0, 2.0, 3.0, 4.0, 5.0])\n",
    "    print(\"Predicted Ratings-->\\n\",\n",
    "      \"['1'\\t'2'\\t'3'\\t'4'\\t'5']\\n\\n\",cm)"
   ]
  },
  {
   "cell_type": "code",
   "execution_count": 118,
   "metadata": {},
   "outputs": [
    {
     "name": "stdout",
     "output_type": "stream",
     "text": [
      "4.030243261012492\n",
      "Accuracy: 0.7081963620425159\n",
      "Mean Absolute Deviation 0.32\n",
      "F1 0.611\n",
      "Actual:\n",
      " 44643    4.0\n",
      "21002    4.0\n",
      "34975    4.0\n",
      "27150    4.0\n",
      "10585    4.0\n",
      "Name: avg_ratingDiscrete, dtype: float64\n",
      "Predicted:\n",
      " 0    4.0\n",
      "1    4.0\n",
      "2    4.0\n",
      "3    4.0\n",
      "4    4.0\n",
      "dtype: float64\n",
      "Predicted Ratings-->\n",
      " ['1'\t'2'\t'3'\t'4'\t'5']\n",
      "\n",
      " [[   0    0    0   38    2]\n",
      " [   0    0    0  109    3]\n",
      " [   0    0    0  304   21]\n",
      " [   0    0    0 6334  123]\n",
      " [   0    1    0 2062  129]]\n"
     ]
    },
    {
     "name": "stderr",
     "output_type": "stream",
     "text": [
      "/Users/alicjawilk/anaconda3/lib/python3.6/site-packages/sklearn/metrics/classification.py:1143: UndefinedMetricWarning: F-score is ill-defined and being set to 0.0 in labels with no predicted samples.\n",
      "  'precision', 'predicted', average, warn_for)\n"
     ]
    }
   ],
   "source": [
    "run_logistic_regression(df)"
   ]
  },
  {
   "cell_type": "markdown",
   "metadata": {},
   "source": [
    "## Ensemble Model using w2v and SVD -  Voting Classifier : <a class=\"anchor\" id=\"em\"></a>\n",
    "\n",
    "- LOGISTICS REGRESSION \n",
    "- DECISION TREE\n",
    "\n",
    "    - Accuracy for w2v ensemble:  70% with .31 MAD\n",
    "\n",
    "The problem here is that we cant use w2vec with MNB nor KNN because the model did not like the negative values that the model was creating"
   ]
  },
  {
   "cell_type": "code",
   "execution_count": 140,
   "metadata": {},
   "outputs": [],
   "source": [
    "X = full_w2v\n",
    "y = df['avg_ratingDiscrete']\n",
    "SEED = 1 \n",
    "X_train, X_test, y_train, y_test = train_test_split(X, y, test_size= 0.2,random_state= SEED)"
   ]
  },
  {
   "cell_type": "code",
   "execution_count": 139,
   "metadata": {},
   "outputs": [
    {
     "name": "stdout",
     "output_type": "stream",
     "text": [
      "Logistic Regression : 0.708\n",
      "Decision Tree : 0.703\n"
     ]
    }
   ],
   "source": [
    "X = full_w2v\n",
    "y = df['avg_ratingDiscrete']\n",
    "SEED = 1 \n",
    "X_train, X_test, y_train, y_test = train_test_split(X, y, test_size= 0.2,random_state= SEED)\n",
    "\n",
    "classifiers = [('Logistic Regression', logr),\n",
    "               ('Decision Tree', dt)]\n",
    "\n",
    "for clf_name, clf in classifiers: #fit clf to the training set\n",
    "    clf.fit(X_train.tolist(), y_train.tolist())\n",
    "    y_pred = clf.predict(X_test.tolist())\n",
    "# Evaluate the accuracy of clf on the test set\n",
    "    print('{:s} : {:.3f}'.format(clf_name, accuracy_score(y_test, y_pred)))"
   ]
  },
  {
   "cell_type": "code",
   "execution_count": 141,
   "metadata": {},
   "outputs": [
    {
     "name": "stdout",
     "output_type": "stream",
     "text": [
      "0.7086346701731318\n",
      "0.31306158229235154\n"
     ]
    }
   ],
   "source": [
    "vc = VotingClassifier(estimators=classifiers)\n",
    "vc.fit(X_train, y_train)\n",
    "y_pred = vc.predict(X_test)\n",
    "a_s =accuracy_score(y_test, y_pred)\n",
    "vc_mad = MAD(y_test, y_pred)\n",
    "print(a_s)\n",
    "print(vc_mad)"
   ]
  },
  {
   "cell_type": "markdown",
   "metadata": {},
   "source": [
    "### Prediciton with DT"
   ]
  },
  {
   "cell_type": "code",
   "execution_count": null,
   "metadata": {},
   "outputs": [],
   "source": [
    "vibsTest = pd.read_csv('test_10k_1.csv')\n",
    "print(vibsTest.head())\n",
    "print(vibsTest.shape)"
   ]
  },
  {
   "cell_type": "code",
   "execution_count": 127,
   "metadata": {},
   "outputs": [
    {
     "name": "stdout",
     "output_type": "stream",
     "text": [
      "(10000, 21)\n"
     ]
    },
    {
     "data": {
      "text/html": [
       "<div>\n",
       "<style scoped>\n",
       "    .dataframe tbody tr th:only-of-type {\n",
       "        vertical-align: middle;\n",
       "    }\n",
       "\n",
       "    .dataframe tbody tr th {\n",
       "        vertical-align: top;\n",
       "    }\n",
       "\n",
       "    .dataframe thead th {\n",
       "        text-align: right;\n",
       "    }\n",
       "</style>\n",
       "<table border=\"1\" class=\"dataframe\">\n",
       "  <thead>\n",
       "    <tr style=\"text-align: right;\">\n",
       "      <th></th>\n",
       "      <th>recipe_id</th>\n",
       "      <th>recipe_name</th>\n",
       "      <th>image_url</th>\n",
       "      <th>ingredients</th>\n",
       "      <th>cooking_directions</th>\n",
       "      <th>nutritions</th>\n",
       "      <th>avg_rating</th>\n",
       "      <th>count</th>\n",
       "      <th>weighted_rating</th>\n",
       "      <th>ingredients_new</th>\n",
       "      <th>...</th>\n",
       "      <th>lengthDirections</th>\n",
       "      <th>lengthIngredients</th>\n",
       "      <th>PrepTime</th>\n",
       "      <th>CookTime</th>\n",
       "      <th>ReadyInTime</th>\n",
       "      <th>clusterID</th>\n",
       "      <th>abg_ratingDiscrete</th>\n",
       "      <th>weighted_ratingDiscrete</th>\n",
       "      <th>avg_ratingDiscrete</th>\n",
       "      <th>user_id</th>\n",
       "    </tr>\n",
       "  </thead>\n",
       "  <tbody>\n",
       "    <tr>\n",
       "      <th>0</th>\n",
       "      <td>22402</td>\n",
       "      <td>Cranberry Pork Chops II</td>\n",
       "      <td>https://images.media-allrecipes.com/userphotos...</td>\n",
       "      <td>pork chops fresh white sugar salt ground black...</td>\n",
       "      <td>{'directions': u'Prep\\n25 m\\nCook\\n45 m\\nReady...</td>\n",
       "      <td>{u'niacin': {u'hasCompleteData': True, u'name'...</td>\n",
       "      <td>4.440000</td>\n",
       "      <td>25.0</td>\n",
       "      <td>4.343128</td>\n",
       "      <td>[pork chops, fresh, white sugar, salt, ground ...</td>\n",
       "      <td>...</td>\n",
       "      <td>338</td>\n",
       "      <td>69</td>\n",
       "      <td>25</td>\n",
       "      <td>45</td>\n",
       "      <td>70</td>\n",
       "      <td>3</td>\n",
       "      <td>4.0</td>\n",
       "      <td>4.0</td>\n",
       "      <td>4.0</td>\n",
       "      <td>2003722</td>\n",
       "    </tr>\n",
       "    <tr>\n",
       "      <th>1</th>\n",
       "      <td>26668</td>\n",
       "      <td>Tater Tot Casserole III</td>\n",
       "      <td>https://images.media-allrecipes.com/userphotos...</td>\n",
       "      <td>ground beef condensed cream of mushroom soup f...</td>\n",
       "      <td>{'directions': u'Prep\\n15 m\\nCook\\n30 m\\nReady...</td>\n",
       "      <td>{u'niacin': {u'hasCompleteData': False, u'name...</td>\n",
       "      <td>4.073171</td>\n",
       "      <td>41.0</td>\n",
       "      <td>4.160830</td>\n",
       "      <td>[ground beef, condensed cream of mushroom soup...</td>\n",
       "      <td>...</td>\n",
       "      <td>433</td>\n",
       "      <td>115</td>\n",
       "      <td>15</td>\n",
       "      <td>30</td>\n",
       "      <td>45</td>\n",
       "      <td>3</td>\n",
       "      <td>4.0</td>\n",
       "      <td>4.0</td>\n",
       "      <td>4.0</td>\n",
       "      <td>1684868</td>\n",
       "    </tr>\n",
       "    <tr>\n",
       "      <th>2</th>\n",
       "      <td>185816</td>\n",
       "      <td>Sweet Pork for Burritos</td>\n",
       "      <td>https://images.media-allrecipes.com/userphotos...</td>\n",
       "      <td>pork shoulder roast salsa fluid ounce) can bro...</td>\n",
       "      <td>{'directions': u'Prep\\n30 m\\nCook\\n8 h\\nReady ...</td>\n",
       "      <td>{u'niacin': {u'hasCompleteData': False, u'name...</td>\n",
       "      <td>4.571429</td>\n",
       "      <td>7.0</td>\n",
       "      <td>4.322535</td>\n",
       "      <td>[pork shoulder roast, salsa, fluid ounce) can,...</td>\n",
       "      <td>...</td>\n",
       "      <td>513</td>\n",
       "      <td>112</td>\n",
       "      <td>30</td>\n",
       "      <td>480</td>\n",
       "      <td>510</td>\n",
       "      <td>3</td>\n",
       "      <td>5.0</td>\n",
       "      <td>4.0</td>\n",
       "      <td>5.0</td>\n",
       "      <td>1394676</td>\n",
       "    </tr>\n",
       "    <tr>\n",
       "      <th>3</th>\n",
       "      <td>8778</td>\n",
       "      <td>Cajun Chicken Pasta</td>\n",
       "      <td>https://images.media-allrecipes.com/userphotos...</td>\n",
       "      <td>linguine pasta skinless boneless chicken breas...</td>\n",
       "      <td>{'directions': u'Prep\\n20 m\\nCook\\n20 m\\nReady...</td>\n",
       "      <td>{u'niacin': {u'hasCompleteData': False, u'name...</td>\n",
       "      <td>4.717949</td>\n",
       "      <td>195.0</td>\n",
       "      <td>4.653076</td>\n",
       "      <td>[linguine pasta, skinless boneless chicken bre...</td>\n",
       "      <td>...</td>\n",
       "      <td>680</td>\n",
       "      <td>245</td>\n",
       "      <td>20</td>\n",
       "      <td>20</td>\n",
       "      <td>40</td>\n",
       "      <td>2</td>\n",
       "      <td>5.0</td>\n",
       "      <td>5.0</td>\n",
       "      <td>5.0</td>\n",
       "      <td>2772033</td>\n",
       "    </tr>\n",
       "    <tr>\n",
       "      <th>4</th>\n",
       "      <td>8778</td>\n",
       "      <td>Cajun Chicken Pasta</td>\n",
       "      <td>https://images.media-allrecipes.com/userphotos...</td>\n",
       "      <td>linguine pasta skinless boneless chicken breas...</td>\n",
       "      <td>{'directions': u'Prep\\n20 m\\nCook\\n20 m\\nReady...</td>\n",
       "      <td>{u'niacin': {u'hasCompleteData': False, u'name...</td>\n",
       "      <td>4.717949</td>\n",
       "      <td>195.0</td>\n",
       "      <td>4.653076</td>\n",
       "      <td>[linguine pasta, skinless boneless chicken bre...</td>\n",
       "      <td>...</td>\n",
       "      <td>680</td>\n",
       "      <td>245</td>\n",
       "      <td>20</td>\n",
       "      <td>20</td>\n",
       "      <td>40</td>\n",
       "      <td>2</td>\n",
       "      <td>5.0</td>\n",
       "      <td>5.0</td>\n",
       "      <td>5.0</td>\n",
       "      <td>1169490</td>\n",
       "    </tr>\n",
       "  </tbody>\n",
       "</table>\n",
       "<p>5 rows × 21 columns</p>\n",
       "</div>"
      ],
      "text/plain": [
       "   recipe_id              recipe_name  \\\n",
       "0      22402  Cranberry Pork Chops II   \n",
       "1      26668  Tater Tot Casserole III   \n",
       "2     185816  Sweet Pork for Burritos   \n",
       "3       8778      Cajun Chicken Pasta   \n",
       "4       8778      Cajun Chicken Pasta   \n",
       "\n",
       "                                           image_url  \\\n",
       "0  https://images.media-allrecipes.com/userphotos...   \n",
       "1  https://images.media-allrecipes.com/userphotos...   \n",
       "2  https://images.media-allrecipes.com/userphotos...   \n",
       "3  https://images.media-allrecipes.com/userphotos...   \n",
       "4  https://images.media-allrecipes.com/userphotos...   \n",
       "\n",
       "                                         ingredients  \\\n",
       "0  pork chops fresh white sugar salt ground black...   \n",
       "1  ground beef condensed cream of mushroom soup f...   \n",
       "2  pork shoulder roast salsa fluid ounce) can bro...   \n",
       "3  linguine pasta skinless boneless chicken breas...   \n",
       "4  linguine pasta skinless boneless chicken breas...   \n",
       "\n",
       "                                  cooking_directions  \\\n",
       "0  {'directions': u'Prep\\n25 m\\nCook\\n45 m\\nReady...   \n",
       "1  {'directions': u'Prep\\n15 m\\nCook\\n30 m\\nReady...   \n",
       "2  {'directions': u'Prep\\n30 m\\nCook\\n8 h\\nReady ...   \n",
       "3  {'directions': u'Prep\\n20 m\\nCook\\n20 m\\nReady...   \n",
       "4  {'directions': u'Prep\\n20 m\\nCook\\n20 m\\nReady...   \n",
       "\n",
       "                                          nutritions  avg_rating  count  \\\n",
       "0  {u'niacin': {u'hasCompleteData': True, u'name'...    4.440000   25.0   \n",
       "1  {u'niacin': {u'hasCompleteData': False, u'name...    4.073171   41.0   \n",
       "2  {u'niacin': {u'hasCompleteData': False, u'name...    4.571429    7.0   \n",
       "3  {u'niacin': {u'hasCompleteData': False, u'name...    4.717949  195.0   \n",
       "4  {u'niacin': {u'hasCompleteData': False, u'name...    4.717949  195.0   \n",
       "\n",
       "   weighted_rating                                    ingredients_new  ...  \\\n",
       "0         4.343128  [pork chops, fresh, white sugar, salt, ground ...  ...   \n",
       "1         4.160830  [ground beef, condensed cream of mushroom soup...  ...   \n",
       "2         4.322535  [pork shoulder roast, salsa, fluid ounce) can,...  ...   \n",
       "3         4.653076  [linguine pasta, skinless boneless chicken bre...  ...   \n",
       "4         4.653076  [linguine pasta, skinless boneless chicken bre...  ...   \n",
       "\n",
       "  lengthDirections  lengthIngredients  PrepTime CookTime ReadyInTime  \\\n",
       "0              338                 69        25       45          70   \n",
       "1              433                115        15       30          45   \n",
       "2              513                112        30      480         510   \n",
       "3              680                245        20       20          40   \n",
       "4              680                245        20       20          40   \n",
       "\n",
       "  clusterID  abg_ratingDiscrete  weighted_ratingDiscrete  avg_ratingDiscrete  \\\n",
       "0         3                 4.0                      4.0                 4.0   \n",
       "1         3                 4.0                      4.0                 4.0   \n",
       "2         3                 5.0                      4.0                 5.0   \n",
       "3         2                 5.0                      5.0                 5.0   \n",
       "4         2                 5.0                      5.0                 5.0   \n",
       "\n",
       "   user_id  \n",
       "0  2003722  \n",
       "1  1684868  \n",
       "2  1394676  \n",
       "3  2772033  \n",
       "4  1169490  \n",
       "\n",
       "[5 rows x 21 columns]"
      ]
     },
     "execution_count": 127,
     "metadata": {},
     "output_type": "execute_result"
    }
   ],
   "source": [
    "new_test_dt = pd.merge(df, vibsTest, on ='recipe_id', how = 'inner')\n",
    "#new_test_dt = new_test_dt.fillna\n",
    "print(new_test_dt.shape)\n",
    "new_test_dt.head()"
   ]
  },
  {
   "cell_type": "code",
   "execution_count": 132,
   "metadata": {},
   "outputs": [
    {
     "name": "stdout",
     "output_type": "stream",
     "text": [
      "[4. 4. 5. 4. 4. 4. 4. 4. 4. 4.]\n"
     ]
    }
   ],
   "source": [
    "new_predDT = dt_model.predict(new_test_dt)\n",
    "print(new_predDT[0:10,])\n",
    "\n",
    "vibsTest['rating'] = new_predDT\n",
    "vibsTest.head()\n",
    "\n",
    "vibsTest['user_rep_id'] = vibsTest['user_id'].astype('str')+vibsTest['recipe_id'].astype('str')\n",
    "vibsTest.head()\n",
    "\n",
    "vibsTest.to_csv('user_recipe_predictions.csv')"
   ]
  },
  {
   "cell_type": "markdown",
   "metadata": {},
   "source": [
    "## Conclusion <a class=\"anchor\" id=\"concl\"></a>\n",
    "\n",
    "### To be improved! :\n",
    "\n",
    "The purpose here was mostly to explore different techniques and different models. Future work on the project will include but not be limited to: \n",
    "\n",
    "- improving accuracy\n",
    "- more features\n",
    "- perform grid search on parameters\n",
    "- creating item-item recommendation system \n",
    "- automate\n"
   ]
  }
 ],
 "metadata": {
  "kernelspec": {
   "display_name": "Python 3",
   "language": "python",
   "name": "python3"
  },
  "language_info": {
   "codemirror_mode": {
    "name": "ipython",
    "version": 3
   },
   "file_extension": ".py",
   "mimetype": "text/x-python",
   "name": "python",
   "nbconvert_exporter": "python",
   "pygments_lexer": "ipython3",
   "version": "3.6.8"
  }
 },
 "nbformat": 4,
 "nbformat_minor": 2
}
